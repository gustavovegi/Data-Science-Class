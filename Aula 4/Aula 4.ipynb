{
 "cells": [
  {
   "cell_type": "markdown",
   "id": "088c2e40-fb3c-4109-8a64-8ba5192ee485",
   "metadata": {},
   "source": [
    "IMPORTAÇÃO DE PACOTES E BANCOS DE DADOS"
   ]
  },
  {
   "cell_type": "code",
   "execution_count": 1,
   "id": "d4cd1cfb-7035-4199-96d5-210f5df24cf7",
   "metadata": {},
   "outputs": [],
   "source": [
    "import pandas as pd\n",
    "import numpy as np"
   ]
  },
  {
   "cell_type": "code",
   "execution_count": 2,
   "id": "b5e9f489-edda-4bf2-bed3-e13619a25258",
   "metadata": {},
   "outputs": [],
   "source": [
    "#Essa variável especifica o caminho até o banco de dados, para que não seja preciso repetí-lo\n",
    "path=\"D:/Acadêmico/Docência/FIAP/Data Science & Statistical Computing/Bancos de Dados/\""
   ]
  },
  {
   "cell_type": "code",
   "execution_count": 3,
   "id": "a84c09ad-27d3-4a7b-8981-8c740bde1845",
   "metadata": {},
   "outputs": [],
   "source": [
    "#Importação do Banco de Dados de Fraudes com a função read_csv do pandas (pd)\n",
    "fraudes = pd.read_csv(path+\"Dados1 Cartoes.csv\")"
   ]
  },
  {
   "cell_type": "code",
   "execution_count": 4,
   "id": "419de6b4-e38f-4506-bc1d-71696b20b2db",
   "metadata": {},
   "outputs": [],
   "source": [
    "#Importação do Banco de Dados de Terremotos com a função read_csv do pandas (pd)\n",
    "terremotos = pd.read_csv(path+\"Dados2 Terremotos.csv\")"
   ]
  },
  {
   "cell_type": "code",
   "execution_count": 5,
   "id": "2c94cb63-e49e-4dc4-86e7-b885a3b15dcd",
   "metadata": {},
   "outputs": [],
   "source": [
    "#Importação do Banco de Dados de Marketing com a função read_csv do pandas (pd)\n",
    "#Como o arquivo csv é separado por ';' e não por ',', em algumas IDEs é necessário\n",
    "#incluir o argumento 'sep' para especificar o separador\n",
    "marketing = pd.read_csv(path+\"Dados3 Marketing.csv\", sep=';')"
   ]
  },
  {
   "cell_type": "code",
   "execution_count": 6,
   "id": "ad0e4eeb-2c2e-4cd4-aa11-e7cd8e563a60",
   "metadata": {},
   "outputs": [],
   "source": [
    "#Importação do Banco de Dados de Atividade com a função read_excel do pandas (pd)\n",
    "#Como é um arquivo com muitas abas, é necessário especificar qual a aba deverá ser importada\n",
    "#através do argumento 'sheet_name'. Do contrário, será importada a primeira aba como padrão\n",
    "energia = pd.read_excel(path+\"Dados4 Atividade.xlsx\", sheet_name='2.3Energia') "
   ]
  },
  {
   "cell_type": "markdown",
   "id": "7f80b4c5-2622-4ab6-aa90-13c6aac0801d",
   "metadata": {},
   "source": [
    "CARACTERÍSTICAS DOS DATAFRAMES\n",
    "\n",
    "Utilizando como exemplo os dataframes importados, vamos analisar suas principais características com as seguintes funções e atributos:\n",
    "\n",
    ".head()\n",
    ".tail()\n",
    ".info()\n",
    ".shape\n",
    ".describe()\n",
    ".values\n",
    ".columns"
   ]
  },
  {
   "cell_type": "code",
   "execution_count": 7,
   "id": "b81fd764-2172-4d90-bcdc-5a5f9bf6a4b2",
   "metadata": {},
   "outputs": [
    {
     "name": "stdout",
     "output_type": "stream",
     "text": [
      "   age        job  marital    education  default housing loan    contact  \\\n",
      "0   56  housemaid  married     basic.4y       no      no   no  telephone   \n",
      "1   57   services  married  high.school  unknown      no   no  telephone   \n",
      "2   37   services  married  high.school       no     yes   no  telephone   \n",
      "3   40     admin.  married     basic.6y       no      no   no  telephone   \n",
      "4   56   services  married  high.school       no      no  yes  telephone   \n",
      "\n",
      "  month day_of_week  ...  campaign  pdays  previous     poutcome emp.var.rate  \\\n",
      "0   may         mon  ...         1    999         0  nonexistent          1.1   \n",
      "1   may         mon  ...         1    999         0  nonexistent          1.1   \n",
      "2   may         mon  ...         1    999         0  nonexistent          1.1   \n",
      "3   may         mon  ...         1    999         0  nonexistent          1.1   \n",
      "4   may         mon  ...         1    999         0  nonexistent          1.1   \n",
      "\n",
      "   cons.price.idx  cons.conf.idx  euribor3m  nr.employed   y  \n",
      "0          93.994          -36.4      4.857       5191.0  no  \n",
      "1          93.994          -36.4      4.857       5191.0  no  \n",
      "2          93.994          -36.4      4.857       5191.0  no  \n",
      "3          93.994          -36.4      4.857       5191.0  no  \n",
      "4          93.994          -36.4      4.857       5191.0  no  \n",
      "\n",
      "[5 rows x 21 columns]\n"
     ]
    }
   ],
   "source": [
    "#Função head, com as primeiras observações das linhas do dataframe (5 por padrão)\n",
    "print(marketing.head())"
   ]
  },
  {
   "cell_type": "code",
   "execution_count": 8,
   "id": "bfae341c-b349-434a-9e45-be06617ebdcf",
   "metadata": {},
   "outputs": [
    {
     "name": "stdout",
     "output_type": "stream",
     "text": [
      "   distance_from_home  distance_from_last_transaction  \\\n",
      "0           57.877857                        0.311140   \n",
      "1           10.829943                        0.175592   \n",
      "2            5.091079                        0.805153   \n",
      "\n",
      "   ratio_to_median_purchase_price  repeat_retailer  used_chip  \\\n",
      "0                        1.945940              1.0        1.0   \n",
      "1                        1.294219              1.0        0.0   \n",
      "2                        0.427715              1.0        0.0   \n",
      "\n",
      "   used_pin_number  online_order  fraud  \n",
      "0              0.0           0.0    0.0  \n",
      "1              0.0           0.0    0.0  \n",
      "2              0.0           1.0    0.0  \n"
     ]
    }
   ],
   "source": [
    "#A função pode ser modificada com o argumento do número de linhas a ser visualizado\n",
    "print(fraudes.head(3))"
   ]
  },
  {
   "cell_type": "code",
   "execution_count": 9,
   "id": "379c6817-62c7-41f9-9055-41cd581032f1",
   "metadata": {},
   "outputs": [
    {
     "name": "stdout",
     "output_type": "stream",
     "text": [
      "       age          job  marital            education default housing loan  \\\n",
      "41183   73      retired  married  professional.course      no     yes   no   \n",
      "41184   46  blue-collar  married  professional.course      no      no   no   \n",
      "41185   56      retired  married    university.degree      no     yes   no   \n",
      "41186   44   technician  married  professional.course      no      no   no   \n",
      "41187   74      retired  married  professional.course      no     yes   no   \n",
      "\n",
      "        contact month day_of_week  ...  campaign  pdays  previous  \\\n",
      "41183  cellular   nov         fri  ...         1    999         0   \n",
      "41184  cellular   nov         fri  ...         1    999         0   \n",
      "41185  cellular   nov         fri  ...         2    999         0   \n",
      "41186  cellular   nov         fri  ...         1    999         0   \n",
      "41187  cellular   nov         fri  ...         3    999         1   \n",
      "\n",
      "          poutcome emp.var.rate  cons.price.idx  cons.conf.idx  euribor3m  \\\n",
      "41183  nonexistent         -1.1          94.767          -50.8      1.028   \n",
      "41184  nonexistent         -1.1          94.767          -50.8      1.028   \n",
      "41185  nonexistent         -1.1          94.767          -50.8      1.028   \n",
      "41186  nonexistent         -1.1          94.767          -50.8      1.028   \n",
      "41187      failure         -1.1          94.767          -50.8      1.028   \n",
      "\n",
      "       nr.employed    y  \n",
      "41183       4963.6  yes  \n",
      "41184       4963.6   no  \n",
      "41185       4963.6   no  \n",
      "41186       4963.6  yes  \n",
      "41187       4963.6   no  \n",
      "\n",
      "[5 rows x 21 columns]\n"
     ]
    }
   ],
   "source": [
    "#Função tail, com as últimas observações das linhas do dataframe (5 por padrão)\n",
    "print(marketing.tail())"
   ]
  },
  {
   "cell_type": "code",
   "execution_count": 10,
   "id": "14e69e5b-16e5-43b4-a10b-51553eee84cf",
   "metadata": {},
   "outputs": [
    {
     "name": "stdout",
     "output_type": "stream",
     "text": [
      "        distance_from_home  distance_from_last_transaction  \\\n",
      "999992            9.844674                        0.250108   \n",
      "999993            4.846253                        2.844450   \n",
      "999994            3.295884                        0.085712   \n",
      "999995            2.207101                        0.112651   \n",
      "999996           19.872726                        2.683904   \n",
      "999997            2.914857                        1.472687   \n",
      "999998            4.258729                        0.242023   \n",
      "999999           58.108125                        0.318110   \n",
      "\n",
      "        ratio_to_median_purchase_price  repeat_retailer  used_chip  \\\n",
      "999992                        0.814046              1.0        0.0   \n",
      "999993                        0.867740              1.0        0.0   \n",
      "999994                        0.831991              1.0        0.0   \n",
      "999995                        1.626798              1.0        1.0   \n",
      "999996                        2.778303              1.0        1.0   \n",
      "999997                        0.218075              1.0        1.0   \n",
      "999998                        0.475822              1.0        0.0   \n",
      "999999                        0.386920              1.0        1.0   \n",
      "\n",
      "        used_pin_number  online_order  fraud  \n",
      "999992              0.0           1.0    0.0  \n",
      "999993              0.0           1.0    0.0  \n",
      "999994              0.0           1.0    0.0  \n",
      "999995              0.0           0.0    0.0  \n",
      "999996              0.0           0.0    0.0  \n",
      "999997              0.0           1.0    0.0  \n",
      "999998              0.0           1.0    0.0  \n",
      "999999              0.0           1.0    0.0  \n"
     ]
    }
   ],
   "source": [
    "#Assim como na função head, função tail pode ser modificada\n",
    "#com o argumento do número de linhas a ser visualizado\n",
    "print(fraudes.tail(8))"
   ]
  },
  {
   "cell_type": "code",
   "execution_count": 11,
   "id": "d3428368-9ff8-430f-bc1b-1482b9e5b4fc",
   "metadata": {},
   "outputs": [
    {
     "name": "stdout",
     "output_type": "stream",
     "text": [
      "<class 'pandas.core.frame.DataFrame'>\n",
      "RangeIndex: 41188 entries, 0 to 41187\n",
      "Data columns (total 21 columns):\n",
      " #   Column          Non-Null Count  Dtype  \n",
      "---  ------          --------------  -----  \n",
      " 0   age             41188 non-null  int64  \n",
      " 1   job             41188 non-null  object \n",
      " 2   marital         41188 non-null  object \n",
      " 3   education       41188 non-null  object \n",
      " 4   default         41188 non-null  object \n",
      " 5   housing         41188 non-null  object \n",
      " 6   loan            41188 non-null  object \n",
      " 7   contact         41188 non-null  object \n",
      " 8   month           41188 non-null  object \n",
      " 9   day_of_week     41188 non-null  object \n",
      " 10  duration        41188 non-null  int64  \n",
      " 11  campaign        41188 non-null  int64  \n",
      " 12  pdays           41188 non-null  int64  \n",
      " 13  previous        41188 non-null  int64  \n",
      " 14  poutcome        41188 non-null  object \n",
      " 15  emp.var.rate    41188 non-null  float64\n",
      " 16  cons.price.idx  41188 non-null  float64\n",
      " 17  cons.conf.idx   41188 non-null  float64\n",
      " 18  euribor3m       41188 non-null  float64\n",
      " 19  nr.employed     41188 non-null  float64\n",
      " 20  y               41188 non-null  object \n",
      "dtypes: float64(5), int64(5), object(11)\n",
      "memory usage: 6.6+ MB\n",
      "None\n"
     ]
    }
   ],
   "source": [
    "#A função info fornece um resumo conciso do dataframe, com o tipo das variáveis, valores não nulos,\n",
    "#uso da memória e número de linhas e colunas\n",
    "print(marketing.info())"
   ]
  },
  {
   "cell_type": "code",
   "execution_count": 12,
   "id": "d806a1a7-635a-4273-b8e7-ee7a40dbefb4",
   "metadata": {},
   "outputs": [
    {
     "name": "stdout",
     "output_type": "stream",
     "text": [
      "<class 'pandas.core.frame.DataFrame'>\n",
      "RangeIndex: 3445751 entries, 0 to 3445750\n",
      "Data columns (total 12 columns):\n",
      " #   Column        Dtype  \n",
      "---  ------        -----  \n",
      " 0   time          int64  \n",
      " 1   place         object \n",
      " 2   status        object \n",
      " 3   tsunami       int64  \n",
      " 4   significance  int64  \n",
      " 5   data_type     object \n",
      " 6   magnitudo     float64\n",
      " 7   state         object \n",
      " 8   longitude     float64\n",
      " 9   latitude      float64\n",
      " 10  depth         float64\n",
      " 11  date          object \n",
      "dtypes: float64(4), int64(3), object(5)\n",
      "memory usage: 315.5+ MB\n",
      "None\n"
     ]
    }
   ],
   "source": [
    "print(terremotos.info())"
   ]
  },
  {
   "cell_type": "code",
   "execution_count": 13,
   "id": "7b4eedec-cdea-4820-857a-576aaa9d25ec",
   "metadata": {},
   "outputs": [
    {
     "name": "stdout",
     "output_type": "stream",
     "text": [
      "(41188, 21)\n"
     ]
    }
   ],
   "source": [
    "#Com o atributo shape, conseguimos visualizar de forma mais direta o número de linhas\n",
    "#e colunas de um dataframe\n",
    "print(marketing.shape)"
   ]
  },
  {
   "cell_type": "code",
   "execution_count": 14,
   "id": "038c2189-7925-4999-83f8-1b2e9e52fbc2",
   "metadata": {},
   "outputs": [
    {
     "name": "stdout",
     "output_type": "stream",
     "text": [
      "(3445751, 12)\n"
     ]
    }
   ],
   "source": [
    "print(terremotos.shape)"
   ]
  },
  {
   "cell_type": "code",
   "execution_count": 15,
   "id": "adc5d0cf-f294-487a-bb91-5f2897242dda",
   "metadata": {},
   "outputs": [
    {
     "name": "stdout",
     "output_type": "stream",
     "text": [
      "       distance_from_home  distance_from_last_transaction  \\\n",
      "count      1000000.000000                  1000000.000000   \n",
      "mean            26.628792                        5.036519   \n",
      "std             65.390784                       25.843093   \n",
      "min              0.004874                        0.000118   \n",
      "25%              3.878008                        0.296671   \n",
      "50%              9.967760                        0.998650   \n",
      "75%             25.743985                        3.355748   \n",
      "max          10632.723672                    11851.104565   \n",
      "\n",
      "       ratio_to_median_purchase_price  repeat_retailer       used_chip  \\\n",
      "count                  1000000.000000   1000000.000000  1000000.000000   \n",
      "mean                         1.824182         0.881536        0.350399   \n",
      "std                          2.799589         0.323157        0.477095   \n",
      "min                          0.004399         0.000000        0.000000   \n",
      "25%                          0.475673         1.000000        0.000000   \n",
      "50%                          0.997717         1.000000        0.000000   \n",
      "75%                          2.096370         1.000000        1.000000   \n",
      "max                        267.802942         1.000000        1.000000   \n",
      "\n",
      "       used_pin_number    online_order           fraud  \n",
      "count   1000000.000000  1000000.000000  1000000.000000  \n",
      "mean          0.100608        0.650552        0.087403  \n",
      "std           0.300809        0.476796        0.282425  \n",
      "min           0.000000        0.000000        0.000000  \n",
      "25%           0.000000        0.000000        0.000000  \n",
      "50%           0.000000        1.000000        0.000000  \n",
      "75%           0.000000        1.000000        0.000000  \n",
      "max           1.000000        1.000000        1.000000  \n"
     ]
    }
   ],
   "source": [
    "#Já com a função describe, obtemos algumas estatísticas descritivas das variáveis de cada dataframe,\n",
    "#incluindo a média, mediana, valores máximos e mínimos e alguns percentis\n",
    "print(fraudes.describe())"
   ]
  },
  {
   "cell_type": "code",
   "execution_count": 16,
   "id": "35a27dce-cbeb-4d41-bd85-0ac4d8cf84c1",
   "metadata": {},
   "outputs": [
    {
     "name": "stdout",
     "output_type": "stream",
     "text": [
      "                                    count       mean        std       min  \\\n",
      "distance_from_home              1000000.0  26.628792  65.390784  0.004874   \n",
      "distance_from_last_transaction  1000000.0   5.036519  25.843093  0.000118   \n",
      "ratio_to_median_purchase_price  1000000.0   1.824182   2.799589  0.004399   \n",
      "repeat_retailer                 1000000.0   0.881536   0.323157  0.000000   \n",
      "used_chip                       1000000.0   0.350399   0.477095  0.000000   \n",
      "used_pin_number                 1000000.0   0.100608   0.300809  0.000000   \n",
      "online_order                    1000000.0   0.650552   0.476796  0.000000   \n",
      "fraud                           1000000.0   0.087403   0.282425  0.000000   \n",
      "\n",
      "                                     25%       50%        75%           max  \n",
      "distance_from_home              3.878008  9.967760  25.743985  10632.723672  \n",
      "distance_from_last_transaction  0.296671  0.998650   3.355748  11851.104565  \n",
      "ratio_to_median_purchase_price  0.475673  0.997717   2.096370    267.802942  \n",
      "repeat_retailer                 1.000000  1.000000   1.000000      1.000000  \n",
      "used_chip                       0.000000  0.000000   1.000000      1.000000  \n",
      "used_pin_number                 0.000000  0.000000   0.000000      1.000000  \n",
      "online_order                    0.000000  1.000000   1.000000      1.000000  \n",
      "fraud                           0.000000  0.000000   0.000000      1.000000  \n"
     ]
    }
   ],
   "source": [
    "#Utilizando um .T na função describe podemos transpor estes valores para um fotmato de tabela mais amigável\n",
    "print(fraudes.describe().T)"
   ]
  },
  {
   "cell_type": "markdown",
   "id": "ce37d954-81e3-4d4e-9762-218e5d453785",
   "metadata": {},
   "source": [
    "ATRIBUTOS DOS DATAFRAMES\n",
    "\n",
    "Análise dos principais atributos dos dataframes com as seguintes funções:\n",
    "\n",
    ".values\n",
    ".columns\n",
    ".index"
   ]
  },
  {
   "cell_type": "code",
   "execution_count": 17,
   "id": "ed258888-d6e4-4bc1-8916-1e5023c33827",
   "metadata": {},
   "outputs": [
    {
     "name": "stdout",
     "output_type": "stream",
     "text": [
      "[[56 'housemaid' 'married' ... 4.857 5191.0 'no']\n",
      " [57 'services' 'married' ... 4.857 5191.0 'no']\n",
      " [37 'services' 'married' ... 4.857 5191.0 'no']\n",
      " ...\n",
      " [56 'retired' 'married' ... 1.028 4963.6 'no']\n",
      " [44 'technician' 'married' ... 1.028 4963.6 'yes']\n",
      " [74 'retired' 'married' ... 1.028 4963.6 'no']]\n"
     ]
    }
   ],
   "source": [
    "#O atributo values contém os dados dentro do DataFrame como um array NumPy, o que pode\n",
    "#ser útil para realizar operações ou algoritmos que operam diretamente em arrays NumPy\n",
    "print(marketing.values)"
   ]
  },
  {
   "cell_type": "code",
   "execution_count": 18,
   "id": "44529763-c0c8-4cb4-899f-eb03c6a4a047",
   "metadata": {},
   "outputs": [
    {
     "name": "stdout",
     "output_type": "stream",
     "text": [
      "Index(['age', 'job', 'marital', 'education', 'default', 'housing', 'loan',\n",
      "       'contact', 'month', 'day_of_week', 'duration', 'campaign', 'pdays',\n",
      "       'previous', 'poutcome', 'emp.var.rate', 'cons.price.idx',\n",
      "       'cons.conf.idx', 'euribor3m', 'nr.employed', 'y'],\n",
      "      dtype='object')\n"
     ]
    }
   ],
   "source": [
    "#Com o atributo columns podemos visualizar de forma mais rápida os títulos das colunas do dataframe\n",
    "print(marketing.columns)"
   ]
  },
  {
   "cell_type": "code",
   "execution_count": 19,
   "id": "6527de96-3488-4703-a10b-2d2b5113a8cd",
   "metadata": {},
   "outputs": [
    {
     "name": "stdout",
     "output_type": "stream",
     "text": [
      "Index(['time', 'place', 'status', 'tsunami', 'significance', 'data_type',\n",
      "       'magnitudo', 'state', 'longitude', 'latitude', 'depth', 'date'],\n",
      "      dtype='object')\n"
     ]
    }
   ],
   "source": [
    "print(terremotos.columns)"
   ]
  },
  {
   "cell_type": "code",
   "execution_count": 20,
   "id": "d08748cf-fdf9-4530-b2f0-b411b88b373f",
   "metadata": {},
   "outputs": [
    {
     "name": "stdout",
     "output_type": "stream",
     "text": [
      "RangeIndex(start=0, stop=41188, step=1)\n"
     ]
    }
   ],
   "source": [
    "#O atributo index contém os títulos/rótulos das linhas\n",
    "#Pode ser uma sequência de números (caso mais comum), datas, strings ou múltiplos níveis\n",
    "print(marketing.index)"
   ]
  },
  {
   "cell_type": "code",
   "execution_count": 21,
   "id": "6a6b0535-e3ae-4bc2-baa4-aa53b2d55504",
   "metadata": {},
   "outputs": [
    {
     "name": "stdout",
     "output_type": "stream",
     "text": [
      "RangeIndex(start=0, stop=3445751, step=1)\n"
     ]
    }
   ],
   "source": [
    "#Neste primeiro momento, vamos trabalhar com índices numerados sequencialmente\n",
    "print(terremotos.index)"
   ]
  },
  {
   "cell_type": "markdown",
   "id": "7d111a76-d198-4095-9aec-ab4a4b15d3ce",
   "metadata": {},
   "source": [
    "ORDENAÇÃO\n",
    "\n",
    "Utilização da função sort_values e manipulação da ordenação através de vários outros argumentos"
   ]
  },
  {
   "cell_type": "code",
   "execution_count": 22,
   "id": "64cb0aaf-40ca-41a5-bcb7-984d682f7b73",
   "metadata": {},
   "outputs": [
    {
     "name": "stdout",
     "output_type": "stream",
     "text": [
      "       age          job  marital            education  default housing loan  \\\n",
      "0       56    housemaid  married             basic.4y       no      no   no   \n",
      "1       57     services  married          high.school  unknown      no   no   \n",
      "2       37     services  married          high.school       no     yes   no   \n",
      "3       40       admin.  married             basic.6y       no      no   no   \n",
      "4       56     services  married          high.school       no      no  yes   \n",
      "...    ...          ...      ...                  ...      ...     ...  ...   \n",
      "41183   73      retired  married  professional.course       no     yes   no   \n",
      "41184   46  blue-collar  married  professional.course       no      no   no   \n",
      "41185   56      retired  married    university.degree       no     yes   no   \n",
      "41186   44   technician  married  professional.course       no      no   no   \n",
      "41187   74      retired  married  professional.course       no     yes   no   \n",
      "\n",
      "         contact month day_of_week  ...  campaign  pdays  previous  \\\n",
      "0      telephone   may         mon  ...         1    999         0   \n",
      "1      telephone   may         mon  ...         1    999         0   \n",
      "2      telephone   may         mon  ...         1    999         0   \n",
      "3      telephone   may         mon  ...         1    999         0   \n",
      "4      telephone   may         mon  ...         1    999         0   \n",
      "...          ...   ...         ...  ...       ...    ...       ...   \n",
      "41183   cellular   nov         fri  ...         1    999         0   \n",
      "41184   cellular   nov         fri  ...         1    999         0   \n",
      "41185   cellular   nov         fri  ...         2    999         0   \n",
      "41186   cellular   nov         fri  ...         1    999         0   \n",
      "41187   cellular   nov         fri  ...         3    999         1   \n",
      "\n",
      "          poutcome emp.var.rate  cons.price.idx  cons.conf.idx  euribor3m  \\\n",
      "0      nonexistent          1.1          93.994          -36.4      4.857   \n",
      "1      nonexistent          1.1          93.994          -36.4      4.857   \n",
      "2      nonexistent          1.1          93.994          -36.4      4.857   \n",
      "3      nonexistent          1.1          93.994          -36.4      4.857   \n",
      "4      nonexistent          1.1          93.994          -36.4      4.857   \n",
      "...            ...          ...             ...            ...        ...   \n",
      "41183  nonexistent         -1.1          94.767          -50.8      1.028   \n",
      "41184  nonexistent         -1.1          94.767          -50.8      1.028   \n",
      "41185  nonexistent         -1.1          94.767          -50.8      1.028   \n",
      "41186  nonexistent         -1.1          94.767          -50.8      1.028   \n",
      "41187      failure         -1.1          94.767          -50.8      1.028   \n",
      "\n",
      "       nr.employed    y  \n",
      "0           5191.0   no  \n",
      "1           5191.0   no  \n",
      "2           5191.0   no  \n",
      "3           5191.0   no  \n",
      "4           5191.0   no  \n",
      "...            ...  ...  \n",
      "41183       4963.6  yes  \n",
      "41184       4963.6   no  \n",
      "41185       4963.6   no  \n",
      "41186       4963.6  yes  \n",
      "41187       4963.6   no  \n",
      "\n",
      "[41188 rows x 21 columns]\n"
     ]
    }
   ],
   "source": [
    "#A função sort_values permite ordenar um DataFrame com base nos valores de uma ou mais colunas\n",
    "#Vamos iniciar analisando as primeiras linhas do dataframe de 'marketing' e como a ordem das linhas\n",
    "#muda depois de utilizada a função sort_values pela coluna 'age'\n",
    "print(marketing)"
   ]
  },
  {
   "cell_type": "code",
   "execution_count": 23,
   "id": "62d74b56-cb26-453a-8c7e-ee2591d389ac",
   "metadata": {},
   "outputs": [
    {
     "name": "stdout",
     "output_type": "stream",
     "text": [
      "       age      job   marital education  default  housing     loan   contact  \\\n",
      "38274   17  student    single   unknown       no       no      yes  cellular   \n",
      "37579   17  student    single  basic.9y       no  unknown  unknown  cellular   \n",
      "37539   17  student    single  basic.9y       no      yes       no  cellular   \n",
      "37140   17  student    single   unknown       no      yes       no  cellular   \n",
      "37558   17  student    single  basic.9y       no      yes       no  cellular   \n",
      "...    ...      ...       ...       ...      ...      ...      ...       ...   \n",
      "40450   92  retired   married   unknown       no       no      yes  cellular   \n",
      "38921   94  retired   married  basic.9y       no       no       no  cellular   \n",
      "27826   95  retired  divorced  basic.6y       no       no       no  cellular   \n",
      "38455   98  retired   married  basic.4y  unknown      yes       no  cellular   \n",
      "38452   98  retired   married  basic.4y  unknown      yes       no  cellular   \n",
      "\n",
      "      month day_of_week  ...  campaign  pdays  previous     poutcome  \\\n",
      "38274   oct         tue  ...         1      2         2      success   \n",
      "37579   aug         fri  ...         2    999         1      failure   \n",
      "37539   aug         fri  ...         2    999         2      failure   \n",
      "37140   aug         wed  ...         3      4         2      success   \n",
      "37558   aug         fri  ...         3      4         2      success   \n",
      "...     ...         ...  ...       ...    ...       ...          ...   \n",
      "40450   aug         tue  ...         1      3         1      success   \n",
      "38921   nov         wed  ...         1    999         1      failure   \n",
      "27826   mar         thu  ...         1    999         0  nonexistent   \n",
      "38455   oct         fri  ...         2    999         0  nonexistent   \n",
      "38452   oct         fri  ...         1      2         2      success   \n",
      "\n",
      "      emp.var.rate  cons.price.idx  cons.conf.idx  euribor3m  nr.employed    y  \n",
      "38274         -3.4          92.431          -26.9      0.742       5017.5  yes  \n",
      "37579         -2.9          92.201          -31.4      0.869       5076.2  yes  \n",
      "37539         -2.9          92.201          -31.4      0.869       5076.2   no  \n",
      "37140         -2.9          92.201          -31.4      0.884       5076.2   no  \n",
      "37558         -2.9          92.201          -31.4      0.869       5076.2   no  \n",
      "...            ...             ...            ...        ...          ...  ...  \n",
      "40450         -1.7          94.027          -38.3      0.904       4991.6  yes  \n",
      "38921         -3.4          92.649          -30.1      0.716       5017.5   no  \n",
      "27826         -1.8          92.843          -50.0      1.650       5099.1   no  \n",
      "38455         -3.4          92.431          -26.9      0.730       5017.5  yes  \n",
      "38452         -3.4          92.431          -26.9      0.730       5017.5  yes  \n",
      "\n",
      "[41188 rows x 21 columns]\n"
     ]
    }
   ],
   "source": [
    "#Agora criamos um novo dataframe com base no dataframe de marketing, mas com as linhas ordenadas\n",
    "#de acordo com a coluna 'age' e mostramos o resultado das primeiras e últimas observações\n",
    "market_age = marketing.sort_values('age')\n",
    "print(market_age)\n",
    "#Vejam que o novo dataframe agora inicia pelas linhas com menor valor na coluna 'age'\n",
    "#Nas últimas linhas do dataframe, teremos os maiores valores para esta mesma variável\n",
    "#Isto ocorre porque o padrão desta função é ordenar os números do maior para o menor"
   ]
  },
  {
   "cell_type": "code",
   "execution_count": 24,
   "id": "4904d3a4-9396-45bc-8e69-a92b1b9f308d",
   "metadata": {},
   "outputs": [
    {
     "name": "stdout",
     "output_type": "stream",
     "text": [
      "       age      job  marital          education  default housing loan  \\\n",
      "30150   46   admin.  married        high.school       no      no   no   \n",
      "8236    37   admin.   single        high.school       no     yes   no   \n",
      "19036   42   admin.  married  university.degree       no     yes   no   \n",
      "8238    44   admin.   single  university.degree       no      no  yes   \n",
      "8239    38   admin.   single  university.degree       no     yes   no   \n",
      "...    ...      ...      ...                ...      ...     ...  ...   \n",
      "38153   37  unknown   single  university.degree       no      no   no   \n",
      "38152   37  unknown   single  university.degree       no     yes  yes   \n",
      "8975    45  unknown  married            unknown  unknown      no  yes   \n",
      "16938   59  unknown  married            unknown       no     yes   no   \n",
      "10349   53  unknown  married        high.school  unknown     yes   no   \n",
      "\n",
      "         contact month day_of_week  ...  campaign  pdays  previous  \\\n",
      "30150   cellular   apr         thu  ...         1    999         0   \n",
      "8236   telephone   jun         tue  ...         1    999         0   \n",
      "19036   cellular   aug         tue  ...         2    999         0   \n",
      "8238   telephone   jun         tue  ...         1    999         0   \n",
      "8239   telephone   jun         tue  ...         1    999         0   \n",
      "...          ...   ...         ...  ...       ...    ...       ...   \n",
      "38153   cellular   sep         wed  ...         1      1         1   \n",
      "38152   cellular   sep         wed  ...         1    999         1   \n",
      "8975   telephone   jun         thu  ...         1    999         0   \n",
      "16938   cellular   jul         thu  ...         2    999         0   \n",
      "10349  telephone   jun         mon  ...         1    999         0   \n",
      "\n",
      "          poutcome emp.var.rate  cons.price.idx  cons.conf.idx  euribor3m  \\\n",
      "30150  nonexistent         -1.8          93.075          -47.1      1.365   \n",
      "8236   nonexistent          1.4          94.465          -41.8      4.864   \n",
      "19036  nonexistent          1.4          93.444          -36.1      4.968   \n",
      "8238   nonexistent          1.4          94.465          -41.8      4.864   \n",
      "8239   nonexistent          1.4          94.465          -41.8      4.864   \n",
      "...            ...          ...             ...            ...        ...   \n",
      "38153      success         -3.4          92.379          -29.8      0.753   \n",
      "38152      failure         -3.4          92.379          -29.8      0.753   \n",
      "8975   nonexistent          1.4          94.465          -41.8      4.866   \n",
      "16938  nonexistent          1.4          93.918          -42.7      4.962   \n",
      "10349  nonexistent          1.4          94.465          -41.8      4.960   \n",
      "\n",
      "       nr.employed   y  \n",
      "30150       5099.1  no  \n",
      "8236        5228.1  no  \n",
      "19036       5228.1  no  \n",
      "8238        5228.1  no  \n",
      "8239        5228.1  no  \n",
      "...            ...  ..  \n",
      "38153       5017.5  no  \n",
      "38152       5017.5  no  \n",
      "8975        5228.1  no  \n",
      "16938       5228.1  no  \n",
      "10349       5228.1  no  \n",
      "\n",
      "[41188 rows x 21 columns]\n"
     ]
    }
   ],
   "source": [
    "#Neste outro exemplo, vamos criar um novo dataframe, ordenando as linhas pela coluna 'job'\n",
    "#Esta coluna é da classe objeto e não um número\n",
    "#Isso significa que ela será ordenada em ordem alfabética\n",
    "market_job = marketing.sort_values('job')\n",
    "print(market_job)\n",
    "#Vejam que as primeiras linhas da variável 'job' agora estão ordenadas com profissões que começam\n",
    "#com a letra 'a' (admin.) e as últimas linhas com profissões desconhecidas, cujos nomes iniciam\n",
    "#por uma das últimas letras do alfabeto 'u' (unknown)"
   ]
  },
  {
   "cell_type": "code",
   "execution_count": 25,
   "id": "b383c64b-5afe-4e79-b9ca-4fb45048e451",
   "metadata": {},
   "outputs": [
    {
     "name": "stdout",
     "output_type": "stream",
     "text": [
      "       age      job   marital    education  default housing loan    contact  \\\n",
      "13407   20   admin.    single  high.school       no      no   no   cellular   \n",
      "4315    21   admin.    single     basic.9y       no     yes  yes  telephone   \n",
      "14865   21   admin.    single  high.school       no     yes   no   cellular   \n",
      "14866   21   admin.    single  high.school       no     yes   no   cellular   \n",
      "14870   21   admin.    single  high.school       no     yes   no   cellular   \n",
      "...    ...      ...       ...          ...      ...     ...  ...        ...   \n",
      "40289   76  unknown   married      unknown       no      no   no  telephone   \n",
      "38019   78  unknown   married      unknown       no     yes   no   cellular   \n",
      "38020   78  unknown   married      unknown       no     yes   no   cellular   \n",
      "38697   81  unknown  divorced      unknown  unknown     yes   no   cellular   \n",
      "38700   81  unknown  divorced      unknown  unknown     yes   no   cellular   \n",
      "\n",
      "      month day_of_week  ...  campaign  pdays  previous     poutcome  \\\n",
      "13407   jul         wed  ...         4    999         0  nonexistent   \n",
      "4315    may         tue  ...         1    999         0  nonexistent   \n",
      "14865   jul         wed  ...         1    999         0  nonexistent   \n",
      "14866   jul         wed  ...         1    999         0  nonexistent   \n",
      "14870   jul         wed  ...         1    999         0  nonexistent   \n",
      "...     ...         ...  ...       ...    ...       ...          ...   \n",
      "40289   jul         thu  ...         3    999         0  nonexistent   \n",
      "38019   sep         wed  ...         1    999         0  nonexistent   \n",
      "38020   sep         wed  ...         1    999         1      failure   \n",
      "38697   nov         mon  ...         1    999         1      failure   \n",
      "38700   nov         mon  ...         1    999         1      failure   \n",
      "\n",
      "      emp.var.rate  cons.price.idx  cons.conf.idx  euribor3m  nr.employed    y  \n",
      "13407          1.4          93.918          -42.7      4.962       5228.1   no  \n",
      "4315           1.1          93.994          -36.4      4.856       5191.0   no  \n",
      "14865          1.4          93.918          -42.7      4.957       5228.1   no  \n",
      "14866          1.4          93.918          -42.7      4.957       5228.1   no  \n",
      "14870          1.4          93.918          -42.7      4.957       5228.1   no  \n",
      "...            ...             ...            ...        ...          ...  ...  \n",
      "40289         -1.7          94.215          -40.3      0.899       4991.6  yes  \n",
      "38019         -3.4          92.379          -29.8      0.781       5017.5   no  \n",
      "38020         -3.4          92.379          -29.8      0.781       5017.5  yes  \n",
      "38697         -3.4          92.649          -30.1      0.715       5017.5  yes  \n",
      "38700         -3.4          92.649          -30.1      0.715       5017.5  yes  \n",
      "\n",
      "[41188 rows x 21 columns]\n"
     ]
    }
   ],
   "source": [
    "#É possível realizar uma ordenação também através de duas colunas\n",
    "#Neste exemplo, criamos um novo dataframe ordenado primeiramente pela coluna 'job' e depois pela 'age'\n",
    "#Uma vez que há uma dupla ordenação, dentro da função sort_values temos que incluir uma lista com o\n",
    "#nome das colunas\n",
    "market_job_age = marketing.sort_values(['job','age'])\n",
    "print(market_job_age)\n",
    "#Neste exemplo primeiro vamos ver as profissões em ordem alfabética e a segunda ordenação será pela idade\n",
    "#das pessoas listadas no dataframe"
   ]
  },
  {
   "cell_type": "code",
   "execution_count": 26,
   "id": "ff37f317-23b8-49d0-90ab-ac387545a8f7",
   "metadata": {},
   "outputs": [
    {
     "name": "stdout",
     "output_type": "stream",
     "text": [
      "       age      job   marital education  default  housing     loan   contact  \\\n",
      "38452   98  retired   married  basic.4y  unknown      yes       no  cellular   \n",
      "38455   98  retired   married  basic.4y  unknown      yes       no  cellular   \n",
      "27826   95  retired  divorced  basic.6y       no       no       no  cellular   \n",
      "38921   94  retired   married  basic.9y       no       no       no  cellular   \n",
      "39655   92  retired   married   unknown       no      yes       no  cellular   \n",
      "...    ...      ...       ...       ...      ...      ...      ...       ...   \n",
      "37579   17  student    single  basic.9y       no  unknown  unknown  cellular   \n",
      "37539   17  student    single  basic.9y       no      yes       no  cellular   \n",
      "38274   17  student    single   unknown       no       no      yes  cellular   \n",
      "37140   17  student    single   unknown       no      yes       no  cellular   \n",
      "37558   17  student    single  basic.9y       no      yes       no  cellular   \n",
      "\n",
      "      month day_of_week  ...  campaign  pdays  previous     poutcome  \\\n",
      "38452   oct         fri  ...         1      2         2      success   \n",
      "38455   oct         fri  ...         2    999         0  nonexistent   \n",
      "27826   mar         thu  ...         1    999         0  nonexistent   \n",
      "38921   nov         wed  ...         1    999         1      failure   \n",
      "39655   may         thu  ...         1      6         2      success   \n",
      "...     ...         ...  ...       ...    ...       ...          ...   \n",
      "37579   aug         fri  ...         2    999         1      failure   \n",
      "37539   aug         fri  ...         2    999         2      failure   \n",
      "38274   oct         tue  ...         1      2         2      success   \n",
      "37140   aug         wed  ...         3      4         2      success   \n",
      "37558   aug         fri  ...         3      4         2      success   \n",
      "\n",
      "      emp.var.rate  cons.price.idx  cons.conf.idx  euribor3m  nr.employed    y  \n",
      "38452         -3.4          92.431          -26.9      0.730       5017.5  yes  \n",
      "38455         -3.4          92.431          -26.9      0.730       5017.5  yes  \n",
      "27826         -1.8          92.843          -50.0      1.650       5099.1   no  \n",
      "38921         -3.4          92.649          -30.1      0.716       5017.5   no  \n",
      "39655         -1.8          93.876          -40.0      0.683       5008.7   no  \n",
      "...            ...             ...            ...        ...          ...  ...  \n",
      "37579         -2.9          92.201          -31.4      0.869       5076.2  yes  \n",
      "37539         -2.9          92.201          -31.4      0.869       5076.2   no  \n",
      "38274         -3.4          92.431          -26.9      0.742       5017.5  yes  \n",
      "37140         -2.9          92.201          -31.4      0.884       5076.2   no  \n",
      "37558         -2.9          92.201          -31.4      0.869       5076.2   no  \n",
      "\n",
      "[41188 rows x 21 columns]\n"
     ]
    }
   ],
   "source": [
    "#Por padrão, a função sort_values vai ordenar as linhas de forma ascendente (do menor para o maior valor)\n",
    "#No entanto, o argumento ascending pode inverter esta ordem\n",
    "#Quando o argumento não é preenchido, ele adota a ordenação ascendente, mas podemos mudar esta ordenação\n",
    "#ao sinalizar este argumento como 'False'\n",
    "market_age_desc = marketing.sort_values('age', ascending=False)\n",
    "print(market_age_desc)\n",
    "#Agora vemos que nas primeiras linhas temos os maiores valores para a variável idade e nas últimas linhas\n",
    "#os menores valores para esta mesma variável, sendo uma ordenação descendente"
   ]
  },
  {
   "cell_type": "code",
   "execution_count": 27,
   "id": "f8ec2154-69ea-4b2a-bf18-2087b3807533",
   "metadata": {},
   "outputs": [
    {
     "name": "stdout",
     "output_type": "stream",
     "text": [
      "       age      job   marital          education  default housing loan  \\\n",
      "36311   72   admin.   married  university.degree       no     yes   no   \n",
      "38486   72   admin.   married  university.degree  unknown      no  yes   \n",
      "39682   71   admin.   married           basic.4y       no     yes  yes   \n",
      "40477   71   admin.   married           basic.4y       no     yes   no   \n",
      "27879   70   admin.  divorced  university.degree       no      no   no   \n",
      "...    ...      ...       ...                ...      ...     ...  ...   \n",
      "36413   24  unknown    single  university.degree       no     yes  yes   \n",
      "36414   24  unknown    single  university.degree       no     yes   no   \n",
      "36415   24  unknown    single  university.degree       no     yes   no   \n",
      "36416   24  unknown    single  university.degree       no      no   no   \n",
      "36418   24  unknown    single  university.degree       no     yes  yes   \n",
      "\n",
      "        contact month day_of_week  ...  campaign  pdays  previous  \\\n",
      "36311  cellular   jun         mon  ...         1    999         0   \n",
      "38486  cellular   oct         tue  ...         1      6         1   \n",
      "39682  cellular   may         fri  ...         4      3         2   \n",
      "40477  cellular   aug         thu  ...         1    999         2   \n",
      "27879  cellular   mar         mon  ...         4    999         0   \n",
      "...         ...   ...         ...  ...       ...    ...       ...   \n",
      "36413  cellular   jun         tue  ...         1    999         0   \n",
      "36414  cellular   jun         tue  ...         1      3         2   \n",
      "36415  cellular   jun         tue  ...         1    999         0   \n",
      "36416  cellular   jun         tue  ...         1    999         1   \n",
      "36418  cellular   jun         tue  ...         1    999         2   \n",
      "\n",
      "          poutcome emp.var.rate  cons.price.idx  cons.conf.idx  euribor3m  \\\n",
      "36311  nonexistent         -2.9          92.963          -40.8      1.266   \n",
      "38486      success         -3.4          92.431          -26.9      0.728   \n",
      "39682      success         -1.8          93.876          -40.0      0.684   \n",
      "40477      failure         -1.7          94.027          -38.3      0.899   \n",
      "27879  nonexistent         -1.8          92.843          -50.0      1.560   \n",
      "...            ...          ...             ...            ...        ...   \n",
      "36413  nonexistent         -2.9          92.963          -40.8      1.262   \n",
      "36414      success         -2.9          92.963          -40.8      1.262   \n",
      "36415  nonexistent         -2.9          92.963          -40.8      1.262   \n",
      "36416      failure         -2.9          92.963          -40.8      1.262   \n",
      "36418      failure         -2.9          92.963          -40.8      1.262   \n",
      "\n",
      "       nr.employed    y  \n",
      "36311       5076.2   no  \n",
      "38486       5017.5  yes  \n",
      "39682       5008.7  yes  \n",
      "40477       4991.6   no  \n",
      "27879       5099.1   no  \n",
      "...            ...  ...  \n",
      "36413       5076.2  yes  \n",
      "36414       5076.2   no  \n",
      "36415       5076.2  yes  \n",
      "36416       5076.2  yes  \n",
      "36418       5076.2   no  \n",
      "\n",
      "[41188 rows x 21 columns]\n"
     ]
    }
   ],
   "source": [
    "#Também posso ordenar o dataframe por diversas colunas e escolher se a ordenação é ascendente (padrão)\n",
    "#ou descendente (ascending=False) para cada coluna, utilizando uma lista destes atributos\n",
    "market_job_age = marketing.sort_values(['job','age'], ascending=[True,False])\n",
    "print(market_job_age)\n",
    "#Neste caso, a ordenação para a coluna 'job' foi ascendente e para a coluna 'age' foi descendente"
   ]
  },
  {
   "cell_type": "code",
   "execution_count": 28,
   "id": "3318a1a9-4c22-492c-90a6-7914afbcc56c",
   "metadata": {},
   "outputs": [
    {
     "name": "stdout",
     "output_type": "stream",
     "text": [
      "       age      job   marital          education  default housing loan  \\\n",
      "36311   72   admin.   married  university.degree       no     yes   no   \n",
      "38486   72   admin.   married  university.degree  unknown      no  yes   \n",
      "39682   71   admin.   married           basic.4y       no     yes  yes   \n",
      "40477   71   admin.   married           basic.4y       no     yes   no   \n",
      "27879   70   admin.  divorced  university.degree       no      no   no   \n",
      "...    ...      ...       ...                ...      ...     ...  ...   \n",
      "36413   24  unknown    single  university.degree       no     yes  yes   \n",
      "36414   24  unknown    single  university.degree       no     yes   no   \n",
      "36415   24  unknown    single  university.degree       no     yes   no   \n",
      "36416   24  unknown    single  university.degree       no      no   no   \n",
      "36418   24  unknown    single  university.degree       no     yes  yes   \n",
      "\n",
      "        contact month day_of_week  ...  campaign  pdays  previous  \\\n",
      "36311  cellular   jun         mon  ...         1    999         0   \n",
      "38486  cellular   oct         tue  ...         1      6         1   \n",
      "39682  cellular   may         fri  ...         4      3         2   \n",
      "40477  cellular   aug         thu  ...         1    999         2   \n",
      "27879  cellular   mar         mon  ...         4    999         0   \n",
      "...         ...   ...         ...  ...       ...    ...       ...   \n",
      "36413  cellular   jun         tue  ...         1    999         0   \n",
      "36414  cellular   jun         tue  ...         1      3         2   \n",
      "36415  cellular   jun         tue  ...         1    999         0   \n",
      "36416  cellular   jun         tue  ...         1    999         1   \n",
      "36418  cellular   jun         tue  ...         1    999         2   \n",
      "\n",
      "          poutcome emp.var.rate  cons.price.idx  cons.conf.idx  euribor3m  \\\n",
      "36311  nonexistent         -2.9          92.963          -40.8      1.266   \n",
      "38486      success         -3.4          92.431          -26.9      0.728   \n",
      "39682      success         -1.8          93.876          -40.0      0.684   \n",
      "40477      failure         -1.7          94.027          -38.3      0.899   \n",
      "27879  nonexistent         -1.8          92.843          -50.0      1.560   \n",
      "...            ...          ...             ...            ...        ...   \n",
      "36413  nonexistent         -2.9          92.963          -40.8      1.262   \n",
      "36414      success         -2.9          92.963          -40.8      1.262   \n",
      "36415  nonexistent         -2.9          92.963          -40.8      1.262   \n",
      "36416      failure         -2.9          92.963          -40.8      1.262   \n",
      "36418      failure         -2.9          92.963          -40.8      1.262   \n",
      "\n",
      "       nr.employed    y  \n",
      "36311       5076.2   no  \n",
      "38486       5017.5  yes  \n",
      "39682       5008.7  yes  \n",
      "40477       4991.6   no  \n",
      "27879       5099.1   no  \n",
      "...            ...  ...  \n",
      "36413       5076.2  yes  \n",
      "36414       5076.2   no  \n",
      "36415       5076.2  yes  \n",
      "36416       5076.2  yes  \n",
      "36418       5076.2   no  \n",
      "\n",
      "[41188 rows x 21 columns]\n"
     ]
    }
   ],
   "source": [
    "#Em todos os exemplos até agora, foram criados novos dataframes com as diferentes ordenações por coluna\n",
    "#Para fazer uma modificação diretamente no dataframe original, podemos usar o argumento inplace=True\n",
    "marketing.sort_values(['job','age'], ascending=[True,False], inplace=True)\n",
    "print(marketing)\n",
    "#Esta opção é pouco recomendada quando se for fazer muitas modificações no dataframe original,\n",
    "#pois erros no código podem levar o usuário a ter que importar novamente o dataframe\n",
    "marketing = pd.read_csv(path+\"Dados3 Marketing.csv\", sep=';')"
   ]
  },
  {
   "cell_type": "markdown",
   "id": "c3678d54-65dd-42ce-9b07-acc8aefbd81f",
   "metadata": {},
   "source": [
    "SELEÇÃO DE SUBCONJUNTOS\n",
    "\n",
    "Utilização de técnicas de seleção de subconjuntos através de filtragens por valores, por datas e por nomes nas células. Adicionalmente, verificou-se a utilização da função .isin()"
   ]
  },
  {
   "cell_type": "code",
   "execution_count": 29,
   "id": "c038b187-f79f-4915-bcbc-90444b270fe2",
   "metadata": {},
   "outputs": [
    {
     "name": "stdout",
     "output_type": "stream",
     "text": [
      "0         0.0\n",
      "1         0.0\n",
      "2         0.0\n",
      "3         0.0\n",
      "4         0.0\n",
      "         ... \n",
      "999995    0.0\n",
      "999996    0.0\n",
      "999997    0.0\n",
      "999998    0.0\n",
      "999999    0.0\n",
      "Name: fraud, Length: 1000000, dtype: float64\n"
     ]
    }
   ],
   "source": [
    "#Para selecionar uma coluna de um dataframe, mantemos entre colchetes a coluna selecionada\n",
    "#Neste exemplo vamos criar um novo dataframe apenas com uma coluna do dataframe de 'fraudes'\n",
    "fraudes_cart = fraudes['fraud']\n",
    "print(fraudes_cart)"
   ]
  },
  {
   "cell_type": "code",
   "execution_count": 30,
   "id": "de30fa92-2c90-4dad-a5fc-fe7461bda948",
   "metadata": {},
   "outputs": [
    {
     "name": "stdout",
     "output_type": "stream",
     "text": [
      "        fraud  distance_from_home  used_chip\n",
      "0         0.0           57.877857        1.0\n",
      "1         0.0           10.829943        0.0\n",
      "2         0.0            5.091079        0.0\n",
      "3         0.0            2.247564        1.0\n",
      "4         0.0           44.190936        1.0\n",
      "...       ...                 ...        ...\n",
      "999995    0.0            2.207101        1.0\n",
      "999996    0.0           19.872726        1.0\n",
      "999997    0.0            2.914857        1.0\n",
      "999998    0.0            4.258729        0.0\n",
      "999999    0.0           58.108125        1.0\n",
      "\n",
      "[1000000 rows x 3 columns]\n"
     ]
    }
   ],
   "source": [
    "#Para selecionar mais de uma coluna de um dataframe, passamos uma lista das colunas em duplo colchete\n",
    "#Neste exemplo vamos criar um novo dataframe com três colunas do dataframe de 'fraudes'\n",
    "fraudes_novo = fraudes[['fraud','distance_from_home','used_chip']]\n",
    "print(fraudes_novo)"
   ]
  },
  {
   "cell_type": "code",
   "execution_count": 31,
   "id": "9522af3c-aad9-4bd9-8639-0b4e0e551ae8",
   "metadata": {},
   "outputs": [
    {
     "name": "stdout",
     "output_type": "stream",
     "text": [
      "        distance_from_home  distance_from_last_transaction  \\\n",
      "13                2.131956                       56.372401   \n",
      "24                3.803057                       67.241081   \n",
      "29               15.694986                      175.989182   \n",
      "35               26.711462                        1.552008   \n",
      "36               10.664474                        1.565769   \n",
      "...                    ...                             ...   \n",
      "999908           45.296658                        0.882736   \n",
      "999916          167.139756                        0.282253   \n",
      "999919          124.640118                        0.004416   \n",
      "999939           51.412900                        3.429330   \n",
      "999949           15.724799                        1.875906   \n",
      "\n",
      "        ratio_to_median_purchase_price  repeat_retailer  used_chip  \\\n",
      "13                            6.358667              1.0        0.0   \n",
      "24                            1.872950              1.0        0.0   \n",
      "29                            0.855623              1.0        0.0   \n",
      "35                            4.603601              1.0        1.0   \n",
      "36                            4.886521              1.0        0.0   \n",
      "...                                ...              ...        ...   \n",
      "999908                        8.856861              1.0        0.0   \n",
      "999916                        0.308468              1.0        0.0   \n",
      "999919                        0.434885              1.0        0.0   \n",
      "999939                       29.914254              1.0        0.0   \n",
      "999949                       11.009366              1.0        1.0   \n",
      "\n",
      "        used_pin_number  online_order  fraud  \n",
      "13                  0.0           1.0    1.0  \n",
      "24                  0.0           1.0    1.0  \n",
      "29                  0.0           1.0    1.0  \n",
      "35                  0.0           1.0    1.0  \n",
      "36                  0.0           1.0    1.0  \n",
      "...                 ...           ...    ...  \n",
      "999908              0.0           1.0    1.0  \n",
      "999916              0.0           1.0    1.0  \n",
      "999919              0.0           1.0    1.0  \n",
      "999939              0.0           1.0    1.0  \n",
      "999949              0.0           1.0    1.0  \n",
      "\n",
      "[87403 rows x 8 columns]\n"
     ]
    }
   ],
   "source": [
    "#Podemos utilizar métodos de filtragem para criar novos dataframes que satisfaçam a algumas condições\n",
    "#Neste exemplo vamos criar um novo dataframe com base no dataframe de 'fraudes' que contém\n",
    "#apenas observações onde a variável 'fraud' é igual a 1, ou seja, quando houve fraude na transação\n",
    "fraudes2 = fraudes[fraudes['fraud']==1]\n",
    "print(fraudes2)\n",
    "#Percebam que há apenas observações onde a variável 'fraud' é igual a 1"
   ]
  },
  {
   "cell_type": "code",
   "execution_count": 32,
   "id": "666f8c70-220a-4ded-84af-d2cdf60ac4a8",
   "metadata": {},
   "outputs": [
    {
     "name": "stdout",
     "output_type": "stream",
     "text": [
      "       age          job   marital            education  default housing loan  \\\n",
      "31735   41  blue-collar   married             basic.6y  unknown     yes  yes   \n",
      "34435   41     services   married          high.school       no      no   no   \n",
      "34396   41   technician   married  professional.course       no     yes   no   \n",
      "39398   41       admin.  divorced          high.school       no      no   no   \n",
      "5116    41  blue-collar   married             basic.4y  unknown      no   no   \n",
      "...    ...          ...       ...                  ...      ...     ...  ...   \n",
      "40469   92      retired   married              unknown       no      no  yes   \n",
      "38921   94      retired   married             basic.9y       no      no   no   \n",
      "27826   95      retired  divorced             basic.6y       no      no   no   \n",
      "38455   98      retired   married             basic.4y  unknown     yes   no   \n",
      "38452   98      retired   married             basic.4y  unknown     yes   no   \n",
      "\n",
      "         contact month day_of_week  ...  campaign  pdays  previous  \\\n",
      "31735   cellular   may         thu  ...         1    999         0   \n",
      "34435   cellular   may         thu  ...         4    999         1   \n",
      "34396   cellular   may         thu  ...         4    999         0   \n",
      "39398  telephone   apr         thu  ...         2    999         0   \n",
      "5116   telephone   may         fri  ...         1    999         0   \n",
      "...          ...   ...         ...  ...       ...    ...       ...   \n",
      "40469   cellular   aug         wed  ...         1      3         4   \n",
      "38921   cellular   nov         wed  ...         1    999         1   \n",
      "27826   cellular   mar         thu  ...         1    999         0   \n",
      "38455   cellular   oct         fri  ...         2    999         0   \n",
      "38452   cellular   oct         fri  ...         1      2         2   \n",
      "\n",
      "          poutcome emp.var.rate  cons.price.idx  cons.conf.idx  euribor3m  \\\n",
      "31735  nonexistent         -1.8          92.893          -46.2      1.327   \n",
      "34435      failure         -1.8          92.893          -46.2      1.266   \n",
      "34396  nonexistent         -1.8          92.893          -46.2      1.266   \n",
      "39398  nonexistent         -1.8          93.749          -34.6      0.635   \n",
      "5116   nonexistent          1.1          93.994          -36.4      4.857   \n",
      "...            ...          ...             ...            ...        ...   \n",
      "40469      success         -1.7          94.027          -38.3      0.903   \n",
      "38921      failure         -3.4          92.649          -30.1      0.716   \n",
      "27826  nonexistent         -1.8          92.843          -50.0      1.650   \n",
      "38455  nonexistent         -3.4          92.431          -26.9      0.730   \n",
      "38452      success         -3.4          92.431          -26.9      0.730   \n",
      "\n",
      "       nr.employed    y  \n",
      "31735       5099.1   no  \n",
      "34435       5099.1   no  \n",
      "34396       5099.1   no  \n",
      "39398       5008.7  yes  \n",
      "5116        5191.0   no  \n",
      "...            ...  ...  \n",
      "40469       4991.6  yes  \n",
      "38921       5017.5   no  \n",
      "27826       5099.1   no  \n",
      "38455       5017.5  yes  \n",
      "38452       5017.5  yes  \n",
      "\n",
      "[17420 rows x 21 columns]\n"
     ]
    },
    {
     "name": "stderr",
     "output_type": "stream",
     "text": [
      "C:\\Users\\CARLOS\\AppData\\Local\\Temp\\ipykernel_18120\\143811495.py:6: SettingWithCopyWarning: \n",
      "A value is trying to be set on a copy of a slice from a DataFrame\n",
      "\n",
      "See the caveats in the documentation: https://pandas.pydata.org/pandas-docs/stable/user_guide/indexing.html#returning-a-view-versus-a-copy\n",
      "  market_40.sort_values('age', inplace=True)\n"
     ]
    }
   ],
   "source": [
    "#Podemos também realizar filtragens considerando valores maiores ou menores do que algum patamar\n",
    "#No dataframe 'marketing' vamos fazer um filtro apenas das pessoas maiores de 40 anos\n",
    "market_40 = marketing[marketing['age']>40]\n",
    "#Depois podemos também ordenar o novo dataframe da menor para a maior idade, assim verificamos se\n",
    "#apenas pessoas com idade maior que 40 estão contidas neste dataframe\n",
    "market_40.sort_values('age', inplace=True)\n",
    "print(market_40)"
   ]
  },
  {
   "cell_type": "code",
   "execution_count": 33,
   "id": "8c693e90-0f9b-40fc-9829-ed2e5eefd459",
   "metadata": {},
   "outputs": [
    {
     "name": "stdout",
     "output_type": "stream",
     "text": [
      "                  time                          place     status  tsunami  \\\n",
      "4         631155824490         16km N of Fillmore, CA   reviewed        0   \n",
      "5         631155853760         16km N of Fillmore, CA   reviewed        0   \n",
      "14        631158697890         16km N of Fillmore, CA   reviewed        0   \n",
      "27        631166964990      20km ENE of Coachella, CA   reviewed        0   \n",
      "29        631167254570         15km NE of Thermal, CA   reviewed        0   \n",
      "...                ...                            ...        ...      ...   \n",
      "3445740  1690624937570        6 km NNW of Cabazon, CA  automatic        0   \n",
      "3445741  1690625310020        4 km SW of Redlands, CA  automatic        0   \n",
      "3445743  1690626164400        16 km ESE of Julian, CA  automatic        0   \n",
      "3445745  1690626815980  0 km SW of Universal City, CA  automatic        0   \n",
      "3445749  1690628146040             7 km W of Cobb, CA  automatic        0   \n",
      "\n",
      "         significance   data_type  magnitudo       state   longitude  \\\n",
      "4                 134  earthquake       2.95  California -118.934000   \n",
      "5                 118  earthquake       2.77  California -118.923000   \n",
      "14                 46  earthquake       1.73  California -118.937000   \n",
      "27                 47  earthquake       1.74  California -115.991000   \n",
      "29                 63  earthquake       2.03  California -116.022000   \n",
      "...               ...         ...        ...         ...         ...   \n",
      "3445740             7  earthquake       0.67  California -116.810833   \n",
      "3445741            16  earthquake       1.01  California -117.215500   \n",
      "3445743            11  earthquake       0.85  California -116.432833   \n",
      "3445745            16  earthquake       1.03  California -118.356833   \n",
      "3445749            16  earthquake       1.03  California -122.800499   \n",
      "\n",
      "          latitude   depth                              date  \n",
      "4        34.546000  16.122  1990-01-01 01:03:44.490000+00:00  \n",
      "5        34.543000  16.342  1990-01-01 01:04:13.760000+00:00  \n",
      "14       34.545000  15.422  1990-01-01 01:51:37.890000+00:00  \n",
      "27       33.774000   2.646  1990-01-01 04:09:24.990000+00:00  \n",
      "29       33.735000   8.186  1990-01-01 04:14:14.570000+00:00  \n",
      "...            ...     ...                               ...  \n",
      "3445740  33.972167  17.520  2023-07-29 10:02:17.570000+00:00  \n",
      "3445741  34.030167  14.450  2023-07-29 10:08:30.020000+00:00  \n",
      "3445743  33.035833   7.370  2023-07-29 10:22:44.400000+00:00  \n",
      "3445745  34.135500  15.710  2023-07-29 10:33:35.980000+00:00  \n",
      "3445749  38.827499   1.720  2023-07-29 10:55:46.040000+00:00  \n",
      "\n",
      "[491689 rows x 12 columns]\n"
     ]
    }
   ],
   "source": [
    "#Outra forma de filtragem é através dos nomes de algumas colunas. Neste exemplo filtramos o dataframe\n",
    "#terremotos para conter apenas as linhas onde a variável 'state' é 'California'\n",
    "terrem_calif = terremotos[terremotos['state']=='California']\n",
    "print(terrem_calif)"
   ]
  },
  {
   "cell_type": "code",
   "execution_count": 34,
   "id": "7b2110a1-0baa-48d4-b94c-c9a2f60d8081",
   "metadata": {},
   "outputs": [
    {
     "name": "stdout",
     "output_type": "stream",
     "text": [
      "       age      job   marital            education  default housing loan  \\\n",
      "15      54  retired   married             basic.9y  unknown     yes  yes   \n",
      "22      55  retired    single          high.school       no     yes   no   \n",
      "110     60  retired  divorced    university.degree  unknown      no   no   \n",
      "128     56  retired   married             basic.4y       no     yes   no   \n",
      "187     54  retired   married          high.school  unknown      no   no   \n",
      "...    ...      ...       ...                  ...      ...     ...  ...   \n",
      "41178   62  retired   married    university.degree       no      no   no   \n",
      "41179   64  retired  divorced  professional.course       no     yes   no   \n",
      "41183   73  retired   married  professional.course       no     yes   no   \n",
      "41185   56  retired   married    university.degree       no     yes   no   \n",
      "41187   74  retired   married  professional.course       no     yes   no   \n",
      "\n",
      "         contact month day_of_week  ...  campaign  pdays  previous  \\\n",
      "15     telephone   may         mon  ...         1    999         0   \n",
      "22     telephone   may         mon  ...         1    999         0   \n",
      "110    telephone   may         mon  ...         1    999         0   \n",
      "128    telephone   may         mon  ...         2    999         0   \n",
      "187    telephone   may         mon  ...         1    999         0   \n",
      "...          ...   ...         ...  ...       ...    ...       ...   \n",
      "41178   cellular   nov         thu  ...         2      6         3   \n",
      "41179   cellular   nov         fri  ...         3    999         0   \n",
      "41183   cellular   nov         fri  ...         1    999         0   \n",
      "41185   cellular   nov         fri  ...         2    999         0   \n",
      "41187   cellular   nov         fri  ...         3    999         1   \n",
      "\n",
      "          poutcome emp.var.rate  cons.price.idx  cons.conf.idx  euribor3m  \\\n",
      "15     nonexistent          1.1          93.994          -36.4      4.857   \n",
      "22     nonexistent          1.1          93.994          -36.4      4.857   \n",
      "110    nonexistent          1.1          93.994          -36.4      4.857   \n",
      "128    nonexistent          1.1          93.994          -36.4      4.857   \n",
      "187    nonexistent          1.1          93.994          -36.4      4.857   \n",
      "...            ...          ...             ...            ...        ...   \n",
      "41178      success         -1.1          94.767          -50.8      1.031   \n",
      "41179  nonexistent         -1.1          94.767          -50.8      1.028   \n",
      "41183  nonexistent         -1.1          94.767          -50.8      1.028   \n",
      "41185  nonexistent         -1.1          94.767          -50.8      1.028   \n",
      "41187      failure         -1.1          94.767          -50.8      1.028   \n",
      "\n",
      "       nr.employed    y  \n",
      "15          5191.0   no  \n",
      "22          5191.0   no  \n",
      "110         5191.0   no  \n",
      "128         5191.0   no  \n",
      "187         5191.0   no  \n",
      "...            ...  ...  \n",
      "41178       4963.6  yes  \n",
      "41179       4963.6   no  \n",
      "41183       4963.6  yes  \n",
      "41185       4963.6   no  \n",
      "41187       4963.6   no  \n",
      "\n",
      "[1720 rows x 21 columns]\n"
     ]
    }
   ],
   "source": [
    "#Em um segundo exemplo podemos manter no dataframe marketing apenas as pessoas que são aposentadas,\n",
    "#ou seja, quando a coluna 'job' for igual a 'retired'\n",
    "market_retired = marketing[marketing['job']=='retired']\n",
    "print(market_retired)"
   ]
  },
  {
   "cell_type": "code",
   "execution_count": 35,
   "id": "9d1dbcfa-029e-4ec8-93d4-832ef084b800",
   "metadata": {},
   "outputs": [
    {
     "name": "stdout",
     "output_type": "stream",
     "text": [
      "Data                                                               datetime64[ns]\n",
      "Prod_Óleo bruto Barris/dia (mil)                                            int64\n",
      "Prod_LGN Barris/dia (mil)                                                   int64\n",
      "Prod_Produção de derivados de petróleo - Total Barris/dia (mil)             int64\n",
      "Prod_Gás natural Barris/dia (milhões)                                     float64\n",
      "Consumo de derivados de petróleo - Gasolina Barris/dia (mil)                int64\n",
      "Consumo de GLP Barris/dia (mil)                                             int64\n",
      "Consumo de Óleo combustível Barris/dia (mil)                                int64\n",
      "Consumo de Óleo diesel Barris/dia (mil)                                     int64\n",
      "Consumo de Demais derivados Barris/dia (mil)                                int64\n",
      "Consumo de Total de derivados Barris/dia (mil)                              int64\n",
      "Consumo de Álcool hidratado Barris/dia (mil)                                int64\n",
      "Consumo de Álcool anidro Barris/dia (mil)                                   int64\n",
      "Consumo de Total de Álcool carburante Barris/dia (mil)                      int64\n",
      "Consumo Energia Comercial GWh                                               int64\n",
      "Consumo Energia Residencial GWh                                             int64\n",
      "Consumo Energia Industrial GWh                                              int64\n",
      "Consumo Energia Outros GWh                                                  int64\n",
      "Consumo Energia Total GWh                                                   int64\n",
      "dtype: object\n"
     ]
    }
   ],
   "source": [
    "#As filtragens podem ser realizadas também por datas. Mas primeiro devemos verificar se algumas coluna\n",
    "#do dataframe correspondente está classificada como objeto de data no formato datetime\n",
    "#Vamos verificar as classes das colunas do dataframe 'energia' pela função dtypes\n",
    "print(energia.dtypes)"
   ]
  },
  {
   "cell_type": "code",
   "execution_count": 36,
   "id": "a761ca52-13d1-44af-a56d-4978c890fef3",
   "metadata": {},
   "outputs": [
    {
     "name": "stdout",
     "output_type": "stream",
     "text": [
      "          Data  Prod_Óleo bruto Barris/dia (mil)  Prod_LGN Barris/dia (mil)  \\\n",
      "0   1995-01-01                               708                         24   \n",
      "1   1995-02-01                               709                         25   \n",
      "2   1995-03-01                               703                         24   \n",
      "3   1995-04-01                               705                         25   \n",
      "4   1995-05-01                               313                         10   \n",
      "..         ...                               ...                        ...   \n",
      "341 2023-06-01                              3367                         77   \n",
      "342 2023-07-01                              3513                         81   \n",
      "343 2023-08-01                              3462                         79   \n",
      "344 2023-09-01                              3672                         85   \n",
      "345 2023-10-01                              3543                         69   \n",
      "\n",
      "     Prod_Produção de derivados de petróleo - Total Barris/dia (mil)  \\\n",
      "0                                                  732                 \n",
      "1                                                  734                 \n",
      "2                                                  727                 \n",
      "3                                                  730                 \n",
      "4                                                  323                 \n",
      "..                                                 ...                 \n",
      "341                                               3444                 \n",
      "342                                               3593                 \n",
      "343                                               3541                 \n",
      "344                                               3758                 \n",
      "345                                               3612                 \n",
      "\n",
      "     Prod_Gás natural Barris/dia (milhões)  \\\n",
      "0                                    0.144   \n",
      "1                                    0.146   \n",
      "2                                    0.140   \n",
      "3                                    0.139   \n",
      "4                                    0.084   \n",
      "..                                     ...   \n",
      "341                                  0.958   \n",
      "342                                  0.969   \n",
      "343                                  0.930   \n",
      "344                                  0.994   \n",
      "345                                  0.959   \n",
      "\n",
      "     Consumo de derivados de petróleo - Gasolina Barris/dia (mil)  \\\n",
      "0                                                  218              \n",
      "1                                                  238              \n",
      "2                                                  230              \n",
      "3                                                  238              \n",
      "4                                                  212              \n",
      "..                                                 ...              \n",
      "341                                                588              \n",
      "342                                                561              \n",
      "343                                                577              \n",
      "344                                                566              \n",
      "345                                                550              \n",
      "\n",
      "     Consumo de GLP Barris/dia (mil)  \\\n",
      "0                                158   \n",
      "1                                188   \n",
      "2                                174   \n",
      "3                                176   \n",
      "4                                158   \n",
      "..                               ...   \n",
      "341                              252   \n",
      "342                              240   \n",
      "343                              247   \n",
      "344                              230   \n",
      "345                              228   \n",
      "\n",
      "     Consumo de Óleo combustível Barris/dia (mil)  \\\n",
      "0                                             206   \n",
      "1                                             204   \n",
      "2                                             194   \n",
      "3                                             217   \n",
      "4                                             205   \n",
      "..                                            ...   \n",
      "341                                            33   \n",
      "342                                            31   \n",
      "343                                            31   \n",
      "344                                            33   \n",
      "345                                            32   \n",
      "\n",
      "     Consumo de Óleo diesel Barris/dia (mil)  \\\n",
      "0                                        444   \n",
      "1                                        516   \n",
      "2                                        520   \n",
      "3                                        486   \n",
      "4                                        426   \n",
      "..                                       ...   \n",
      "341                                     1144   \n",
      "342                                     1160   \n",
      "343                                     1261   \n",
      "344                                     1208   \n",
      "345                                     1168   \n",
      "\n",
      "     Consumo de Demais derivados Barris/dia (mil)  \\\n",
      "0                                              69   \n",
      "1                                              67   \n",
      "2                                              67   \n",
      "3                                              65   \n",
      "4                                              59   \n",
      "..                                            ...   \n",
      "341                                           109   \n",
      "342                                           116   \n",
      "343                                           116   \n",
      "344                                           113   \n",
      "345                                           112   \n",
      "\n",
      "     Consumo de Total de derivados Barris/dia (mil)  \\\n",
      "0                                              1095   \n",
      "1                                              1213   \n",
      "2                                              1185   \n",
      "3                                              1182   \n",
      "4                                              1060   \n",
      "..                                              ...   \n",
      "341                                            2127   \n",
      "342                                            2108   \n",
      "343                                            2232   \n",
      "344                                            2150   \n",
      "345                                            2090   \n",
      "\n",
      "     Consumo de Álcool hidratado Barris/dia (mil)  \\\n",
      "0                                             173   \n",
      "1                                             175   \n",
      "2                                             179   \n",
      "3                                             170   \n",
      "4                                             169   \n",
      "..                                            ...   \n",
      "341                                           246   \n",
      "342                                           236   \n",
      "343                                           284   \n",
      "344                                           313   \n",
      "345                                           319   \n",
      "\n",
      "     Consumo de Álcool anidro Barris/dia (mil)  \\\n",
      "0                                           62   \n",
      "1                                           63   \n",
      "2                                           65   \n",
      "3                                           62   \n",
      "4                                           61   \n",
      "..                                         ...   \n",
      "341                                        218   \n",
      "342                                        208   \n",
      "343                                        213   \n",
      "344                                        209   \n",
      "345                                        203   \n",
      "\n",
      "     Consumo de Total de Álcool carburante Barris/dia (mil)  \\\n",
      "0                                                  235        \n",
      "1                                                  238        \n",
      "2                                                  244        \n",
      "3                                                  232        \n",
      "4                                                  230        \n",
      "..                                                 ...        \n",
      "341                                                464        \n",
      "342                                                443        \n",
      "343                                                497        \n",
      "344                                                522        \n",
      "345                                                522        \n",
      "\n",
      "     Consumo Energia Comercial GWh  Consumo Energia Residencial GWh  \\\n",
      "0                             2746                             5219   \n",
      "1                             2708                             5062   \n",
      "2                             2708                             5326   \n",
      "3                             2765                             5187   \n",
      "4                             2623                             5230   \n",
      "..                             ...                              ...   \n",
      "341                           7590                            12778   \n",
      "342                           7281                            12523   \n",
      "343                           7658                            12955   \n",
      "344                           8000                            13618   \n",
      "345                           8398                            14337   \n",
      "\n",
      "     Consumo Energia Industrial GWh  Consumo Energia Outros GWh  \\\n",
      "0                              9171                        3039   \n",
      "1                              9109                        2950   \n",
      "2                              9070                        2981   \n",
      "3                              9607                        2989   \n",
      "4                              9101                        2912   \n",
      "..                              ...                         ...   \n",
      "341                           15591                        6564   \n",
      "342                           15691                        6402   \n",
      "343                           16115                        6628   \n",
      "344                           15972                        6817   \n",
      "345                           16217                        6968   \n",
      "\n",
      "     Consumo Energia Total GWh  \n",
      "0                        20175  \n",
      "1                        19829  \n",
      "2                        20085  \n",
      "3                        20548  \n",
      "4                        19866  \n",
      "..                         ...  \n",
      "341                      42524  \n",
      "342                      41898  \n",
      "343                      43356  \n",
      "344                      44407  \n",
      "345                      45920  \n",
      "\n",
      "[346 rows x 19 columns]\n"
     ]
    }
   ],
   "source": [
    "#No dataframe 'energia' a coluna 'Data' está no formato datetime64[ns], então podemos fazer o filtro\n",
    "#desta coluna pela data especificada. A data deve estar em formato 'YYYY-MM-DD'\n",
    "print(energia)\n",
    "#O dataframe contém 346 observações, inicia na data '1995-01-01' e vai até a data '2023-11-01'"
   ]
  },
  {
   "cell_type": "code",
   "execution_count": 37,
   "id": "81992b12-3db4-4c7c-b1b5-b2b3913f0820",
   "metadata": {},
   "outputs": [
    {
     "name": "stdout",
     "output_type": "stream",
     "text": [
      "          Data  Prod_Óleo bruto Barris/dia (mil)  Prod_LGN Barris/dia (mil)  \\\n",
      "180 2010-01-01                              1997                         80   \n",
      "181 2010-02-01                              2017                         79   \n",
      "182 2010-03-01                              2037                         75   \n",
      "183 2010-04-01                              2077                         86   \n",
      "184 2010-05-01                              2075                         83   \n",
      "..         ...                               ...                        ...   \n",
      "341 2023-06-01                              3367                         77   \n",
      "342 2023-07-01                              3513                         81   \n",
      "343 2023-08-01                              3462                         79   \n",
      "344 2023-09-01                              3672                         85   \n",
      "345 2023-10-01                              3543                         69   \n",
      "\n",
      "     Prod_Produção de derivados de petróleo - Total Barris/dia (mil)  \\\n",
      "180                                               2077                 \n",
      "181                                               2096                 \n",
      "182                                               2112                 \n",
      "183                                               2163                 \n",
      "184                                               2158                 \n",
      "..                                                 ...                 \n",
      "341                                               3444                 \n",
      "342                                               3593                 \n",
      "343                                               3541                 \n",
      "344                                               3758                 \n",
      "345                                               3612                 \n",
      "\n",
      "     Prod_Gás natural Barris/dia (milhões)  \\\n",
      "180                                  0.368   \n",
      "181                                  0.381   \n",
      "182                                  0.374   \n",
      "183                                  0.385   \n",
      "184                                  0.391   \n",
      "..                                     ...   \n",
      "341                                  0.958   \n",
      "342                                  0.969   \n",
      "343                                  0.930   \n",
      "344                                  0.994   \n",
      "345                                  0.959   \n",
      "\n",
      "     Consumo de derivados de petróleo - Gasolina Barris/dia (mil)  \\\n",
      "180                                                373              \n",
      "181                                                429              \n",
      "182                                                432              \n",
      "183                                                405              \n",
      "184                                                356              \n",
      "..                                                 ...              \n",
      "341                                                588              \n",
      "342                                                561              \n",
      "343                                                577              \n",
      "344                                                566              \n",
      "345                                                550              \n",
      "\n",
      "     Consumo de GLP Barris/dia (mil)  \\\n",
      "180                              188   \n",
      "181                              202   \n",
      "182                              214   \n",
      "183                              215   \n",
      "184                              214   \n",
      "..                               ...   \n",
      "341                              252   \n",
      "342                              240   \n",
      "343                              247   \n",
      "344                              230   \n",
      "345                              228   \n",
      "\n",
      "     Consumo de Óleo combustível Barris/dia (mil)  \\\n",
      "180                                            81   \n",
      "181                                            85   \n",
      "182                                            91   \n",
      "183                                            90   \n",
      "184                                            87   \n",
      "..                                            ...   \n",
      "341                                            33   \n",
      "342                                            31   \n",
      "343                                            31   \n",
      "344                                            33   \n",
      "345                                            32   \n",
      "\n",
      "     Consumo de Óleo diesel Barris/dia (mil)  \\\n",
      "180                                      680   \n",
      "181                                      796   \n",
      "182                                      868   \n",
      "183                                      832   \n",
      "184                                      829   \n",
      "..                                       ...   \n",
      "341                                     1144   \n",
      "342                                     1160   \n",
      "343                                     1261   \n",
      "344                                     1208   \n",
      "345                                     1168   \n",
      "\n",
      "     Consumo de Demais derivados Barris/dia (mil)  \\\n",
      "180                                           107   \n",
      "181                                           105   \n",
      "182                                           105   \n",
      "183                                           102   \n",
      "184                                           104   \n",
      "..                                            ...   \n",
      "341                                           109   \n",
      "342                                           116   \n",
      "343                                           116   \n",
      "344                                           113   \n",
      "345                                           112   \n",
      "\n",
      "     Consumo de Total de derivados Barris/dia (mil)  \\\n",
      "180                                            1429   \n",
      "181                                            1617   \n",
      "182                                            1710   \n",
      "183                                            1643   \n",
      "184                                            1590   \n",
      "..                                              ...   \n",
      "341                                            2127   \n",
      "342                                            2108   \n",
      "343                                            2232   \n",
      "344                                            2150   \n",
      "345                                            2090   \n",
      "\n",
      "     Consumo de Álcool hidratado Barris/dia (mil)  \\\n",
      "180                                           199   \n",
      "181                                           181   \n",
      "182                                           220   \n",
      "183                                           257   \n",
      "184                                           268   \n",
      "..                                            ...   \n",
      "341                                           246   \n",
      "342                                           236   \n",
      "343                                           284   \n",
      "344                                           313   \n",
      "345                                           319   \n",
      "\n",
      "     Consumo de Álcool anidro Barris/dia (mil)  \\\n",
      "180                                        124   \n",
      "181                                        107   \n",
      "182                                        108   \n",
      "183                                        101   \n",
      "184                                        118   \n",
      "..                                         ...   \n",
      "341                                        218   \n",
      "342                                        208   \n",
      "343                                        213   \n",
      "344                                        209   \n",
      "345                                        203   \n",
      "\n",
      "     Consumo de Total de Álcool carburante Barris/dia (mil)  \\\n",
      "180                                                323        \n",
      "181                                                288        \n",
      "182                                                328        \n",
      "183                                                358        \n",
      "184                                                385        \n",
      "..                                                 ...        \n",
      "341                                                464        \n",
      "342                                                443        \n",
      "343                                                497        \n",
      "344                                                522        \n",
      "345                                                522        \n",
      "\n",
      "     Consumo Energia Comercial GWh  Consumo Energia Residencial GWh  \\\n",
      "180                           5851                             9235   \n",
      "181                           5885                             8912   \n",
      "182                           6162                             9153   \n",
      "183                           6010                             9150   \n",
      "184                           5658                             8709   \n",
      "..                             ...                              ...   \n",
      "341                           7590                            12778   \n",
      "342                           7281                            12523   \n",
      "343                           7658                            12955   \n",
      "344                           8000                            13618   \n",
      "345                           8398                            14337   \n",
      "\n",
      "     Consumo Energia Industrial GWh  Consumo Energia Outros GWh  \\\n",
      "180                           13425                        4850   \n",
      "181                           14078                        4855   \n",
      "182                           14766                        5036   \n",
      "183                           14921                        4945   \n",
      "184                           15025                        4905   \n",
      "..                              ...                         ...   \n",
      "341                           15591                        6564   \n",
      "342                           15691                        6402   \n",
      "343                           16115                        6628   \n",
      "344                           15972                        6817   \n",
      "345                           16217                        6968   \n",
      "\n",
      "     Consumo Energia Total GWh  \n",
      "180                      33360  \n",
      "181                      33730  \n",
      "182                      35117  \n",
      "183                      35026  \n",
      "184                      34297  \n",
      "..                         ...  \n",
      "341                      42524  \n",
      "342                      41898  \n",
      "343                      43356  \n",
      "344                      44407  \n",
      "345                      45920  \n",
      "\n",
      "[166 rows x 19 columns]\n"
     ]
    }
   ],
   "source": [
    "#Posso criar um novo dataframe apenas com os dados a partir de 2010\n",
    "energia_2010 = energia[energia['Data']>='2010-01-01']\n",
    "print(energia_2010)\n",
    "#Observa-se na coluna 'Data' que agora as observações se iniciam a partir de '2010-01-01'"
   ]
  },
  {
   "cell_type": "code",
   "execution_count": 38,
   "id": "56e752d7-6b3c-4219-ba85-f80805de0396",
   "metadata": {},
   "outputs": [
    {
     "name": "stdout",
     "output_type": "stream",
     "text": [
      "          Data  Prod_Óleo bruto Barris/dia (mil)  Prod_LGN Barris/dia (mil)  \\\n",
      "0   1995-01-01                               708                         24   \n",
      "1   1995-02-01                               709                         25   \n",
      "2   1995-03-01                               703                         24   \n",
      "3   1995-04-01                               705                         25   \n",
      "4   1995-05-01                               313                         10   \n",
      "..         ...                               ...                        ...   \n",
      "175 2009-08-01                              1960                         77   \n",
      "176 2009-09-01                              1993                         77   \n",
      "177 2009-10-01                              1990                         80   \n",
      "178 2009-11-01                              1986                         80   \n",
      "179 2009-12-01                              1999                         80   \n",
      "\n",
      "     Prod_Produção de derivados de petróleo - Total Barris/dia (mil)  \\\n",
      "0                                                  732                 \n",
      "1                                                  734                 \n",
      "2                                                  727                 \n",
      "3                                                  730                 \n",
      "4                                                  323                 \n",
      "..                                                 ...                 \n",
      "175                                               2037                 \n",
      "176                                               2070                 \n",
      "177                                               2070                 \n",
      "178                                               2066                 \n",
      "179                                               2079                 \n",
      "\n",
      "     Prod_Gás natural Barris/dia (milhões)  \\\n",
      "0                                    0.144   \n",
      "1                                    0.146   \n",
      "2                                    0.140   \n",
      "3                                    0.139   \n",
      "4                                    0.084   \n",
      "..                                     ...   \n",
      "175                                  0.359   \n",
      "176                                  0.377   \n",
      "177                                  0.374   \n",
      "178                                  0.372   \n",
      "179                                  0.380   \n",
      "\n",
      "     Consumo de derivados de petróleo - Gasolina Barris/dia (mil)  \\\n",
      "0                                                  218              \n",
      "1                                                  238              \n",
      "2                                                  230              \n",
      "3                                                  238              \n",
      "4                                                  212              \n",
      "..                                                 ...              \n",
      "175                                                308              \n",
      "176                                                330              \n",
      "177                                                349              \n",
      "178                                                336              \n",
      "179                                                399              \n",
      "\n",
      "     Consumo de GLP Barris/dia (mil)  \\\n",
      "0                                158   \n",
      "1                                188   \n",
      "2                                174   \n",
      "3                                176   \n",
      "4                                158   \n",
      "..                               ...   \n",
      "175                              217   \n",
      "176                              218   \n",
      "177                              215   \n",
      "178                              201   \n",
      "179                              215   \n",
      "\n",
      "     Consumo de Óleo combustível Barris/dia (mil)  \\\n",
      "0                                             206   \n",
      "1                                             204   \n",
      "2                                             194   \n",
      "3                                             217   \n",
      "4                                             205   \n",
      "..                                            ...   \n",
      "175                                            89   \n",
      "176                                            94   \n",
      "177                                            90   \n",
      "178                                            88   \n",
      "179                                            84   \n",
      "\n",
      "     Consumo de Óleo diesel Barris/dia (mil)  \\\n",
      "0                                        444   \n",
      "1                                        516   \n",
      "2                                        520   \n",
      "3                                        486   \n",
      "4                                        426   \n",
      "..                                       ...   \n",
      "175                                      778   \n",
      "176                                      825   \n",
      "177                                      865   \n",
      "178                                      810   \n",
      "179                                      772   \n",
      "\n",
      "     Consumo de Demais derivados Barris/dia (mil)  \\\n",
      "0                                              69   \n",
      "1                                              67   \n",
      "2                                              67   \n",
      "3                                              65   \n",
      "4                                              59   \n",
      "..                                            ...   \n",
      "175                                            95   \n",
      "176                                            97   \n",
      "177                                            99   \n",
      "178                                            99   \n",
      "179                                           103   \n",
      "\n",
      "     Consumo de Total de derivados Barris/dia (mil)  \\\n",
      "0                                              1095   \n",
      "1                                              1213   \n",
      "2                                              1185   \n",
      "3                                              1182   \n",
      "4                                              1060   \n",
      "..                                              ...   \n",
      "175                                            1487   \n",
      "176                                            1563   \n",
      "177                                            1619   \n",
      "178                                            1533   \n",
      "179                                            1574   \n",
      "\n",
      "     Consumo de Álcool hidratado Barris/dia (mil)  \\\n",
      "0                                             173   \n",
      "1                                             175   \n",
      "2                                             179   \n",
      "3                                             170   \n",
      "4                                             169   \n",
      "..                                            ...   \n",
      "175                                           286   \n",
      "176                                           315   \n",
      "177                                           304   \n",
      "178                                           271   \n",
      "179                                           306   \n",
      "\n",
      "     Consumo de Álcool anidro Barris/dia (mil)  \\\n",
      "0                                           62   \n",
      "1                                           63   \n",
      "2                                           65   \n",
      "3                                           62   \n",
      "4                                           61   \n",
      "..                                         ...   \n",
      "175                                        103   \n",
      "176                                        110   \n",
      "177                                        116   \n",
      "178                                        112   \n",
      "179                                        133   \n",
      "\n",
      "     Consumo de Total de Álcool carburante Barris/dia (mil)  \\\n",
      "0                                                  235        \n",
      "1                                                  238        \n",
      "2                                                  244        \n",
      "3                                                  232        \n",
      "4                                                  230        \n",
      "..                                                 ...        \n",
      "175                                                388        \n",
      "176                                                425        \n",
      "177                                                421        \n",
      "178                                                383        \n",
      "179                                                439        \n",
      "\n",
      "     Consumo Energia Comercial GWh  Consumo Energia Residencial GWh  \\\n",
      "0                             2746                             5219   \n",
      "1                             2708                             5062   \n",
      "2                             2708                             5326   \n",
      "3                             2765                             5187   \n",
      "4                             2623                             5230   \n",
      "..                             ...                              ...   \n",
      "175                           5129                             8403   \n",
      "176                           5304                             8417   \n",
      "177                           5493                             8526   \n",
      "178                           5764                             8636   \n",
      "179                           6095                             8877   \n",
      "\n",
      "     Consumo Energia Industrial GWh  Consumo Energia Outros GWh  \\\n",
      "0                              9171                        3039   \n",
      "1                              9109                        2950   \n",
      "2                              9070                        2981   \n",
      "3                              9607                        2989   \n",
      "4                              9101                        2912   \n",
      "..                              ...                         ...   \n",
      "175                           14061                        4669   \n",
      "176                           14227                        4769   \n",
      "177                           14552                        4849   \n",
      "178                           14415                        4802   \n",
      "179                           14229                        4923   \n",
      "\n",
      "     Consumo Energia Total GWh  \n",
      "0                        20175  \n",
      "1                        19829  \n",
      "2                        20085  \n",
      "3                        20548  \n",
      "4                        19866  \n",
      "..                         ...  \n",
      "175                      32262  \n",
      "176                      32717  \n",
      "177                      33420  \n",
      "178                      33617  \n",
      "179                      34123  \n",
      "\n",
      "[180 rows x 19 columns]\n"
     ]
    }
   ],
   "source": [
    "#Podemos fazer uma análise inversa, selecionando apenas as datas anteriores a 2010\n",
    "energia_2010_ant = energia[energia['Data']<'2010-01-01']\n",
    "print(energia_2010_ant)\n",
    "#Observa-se na coluna 'Data' que agora as observações se limitam ao ano de 2009"
   ]
  },
  {
   "cell_type": "code",
   "execution_count": 39,
   "id": "16c27ce2-a9d9-49b5-a08a-10c75cec2217",
   "metadata": {},
   "outputs": [
    {
     "name": "stdout",
     "output_type": "stream",
     "text": [
      "       age      job   marital            education default  housing     loan  \\\n",
      "8645    61  retired   married          high.school      no  unknown  unknown   \n",
      "27713   70  retired  divorced             basic.4y      no      yes       no   \n",
      "27757   76  retired   married    university.degree      no       no      yes   \n",
      "27774   67  retired    single    university.degree      no      yes      yes   \n",
      "27780   73  retired   married    university.degree      no      yes       no   \n",
      "...    ...      ...       ...                  ...     ...      ...      ...   \n",
      "41174   62  retired   married    university.degree      no      yes       no   \n",
      "41178   62  retired   married    university.degree      no       no       no   \n",
      "41179   64  retired  divorced  professional.course      no      yes       no   \n",
      "41183   73  retired   married  professional.course      no      yes       no   \n",
      "41187   74  retired   married  professional.course      no      yes       no   \n",
      "\n",
      "         contact month day_of_week  ...  campaign  pdays  previous  \\\n",
      "8645   telephone   jun         wed  ...         4    999         0   \n",
      "27713   cellular   mar         mon  ...         3    999         0   \n",
      "27757   cellular   mar         thu  ...         9    999         0   \n",
      "27774   cellular   mar         mon  ...        22    999         0   \n",
      "27780   cellular   mar         tue  ...         1    999         1   \n",
      "...          ...   ...         ...  ...       ...    ...       ...   \n",
      "41174   cellular   nov         thu  ...         1      1         6   \n",
      "41178   cellular   nov         thu  ...         2      6         3   \n",
      "41179   cellular   nov         fri  ...         3    999         0   \n",
      "41183   cellular   nov         fri  ...         1    999         0   \n",
      "41187   cellular   nov         fri  ...         3    999         1   \n",
      "\n",
      "          poutcome emp.var.rate  cons.price.idx  cons.conf.idx  euribor3m  \\\n",
      "8645   nonexistent          1.4          94.465          -41.8      4.864   \n",
      "27713  nonexistent         -1.8          92.843          -50.0      1.811   \n",
      "27757  nonexistent         -1.8          92.843          -50.0      1.757   \n",
      "27774  nonexistent         -1.8          92.843          -50.0      1.703   \n",
      "27780      failure         -1.8          92.843          -50.0      1.687   \n",
      "...            ...          ...             ...            ...        ...   \n",
      "41174      success         -1.1          94.767          -50.8      1.031   \n",
      "41178      success         -1.1          94.767          -50.8      1.031   \n",
      "41179  nonexistent         -1.1          94.767          -50.8      1.028   \n",
      "41183  nonexistent         -1.1          94.767          -50.8      1.028   \n",
      "41187      failure         -1.1          94.767          -50.8      1.028   \n",
      "\n",
      "       nr.employed    y  \n",
      "8645        5228.1   no  \n",
      "27713       5099.1  yes  \n",
      "27757       5099.1   no  \n",
      "27774       5099.1   no  \n",
      "27780       5099.1   no  \n",
      "...            ...  ...  \n",
      "41174       4963.6  yes  \n",
      "41178       4963.6  yes  \n",
      "41179       4963.6   no  \n",
      "41183       4963.6  yes  \n",
      "41187       4963.6   no  \n",
      "\n",
      "[678 rows x 21 columns]\n"
     ]
    }
   ],
   "source": [
    "#Além da seleção com base em uma característica específica, podemos selecionar variáveis com base\n",
    "#em duas ou mais características através de notações entre parênteses e o uso do símbolo '&',\n",
    "#que vai sinalizar quando duas ou mais condições forem verdadeiras\n",
    "#Neste exemplo, vamos selecionar no dataframe 'marketing' pessoas acima de 60 anos cujo 'job' é 'retired'\n",
    "market_60_ret = marketing[(marketing['age']>60) & (marketing['job']=='retired')]\n",
    "print(market_60_ret)"
   ]
  },
  {
   "cell_type": "code",
   "execution_count": 40,
   "id": "46269577-4f94-45f0-a8e4-14c5fd98cf57",
   "metadata": {},
   "outputs": [
    {
     "name": "stdout",
     "output_type": "stream",
     "text": [
      "       age      job   marital            education  default housing loan  \\\n",
      "15      54  retired   married             basic.9y  unknown     yes  yes   \n",
      "22      55  retired    single          high.school       no     yes   no   \n",
      "110     60  retired  divorced    university.degree  unknown      no   no   \n",
      "128     56  retired   married             basic.4y       no     yes   no   \n",
      "187     54  retired   married          high.school  unknown      no   no   \n",
      "...    ...      ...       ...                  ...      ...     ...  ...   \n",
      "41178   62  retired   married    university.degree       no      no   no   \n",
      "41179   64  retired  divorced  professional.course       no     yes   no   \n",
      "41183   73  retired   married  professional.course       no     yes   no   \n",
      "41185   56  retired   married    university.degree       no     yes   no   \n",
      "41187   74  retired   married  professional.course       no     yes   no   \n",
      "\n",
      "         contact month day_of_week  ...  campaign  pdays  previous  \\\n",
      "15     telephone   may         mon  ...         1    999         0   \n",
      "22     telephone   may         mon  ...         1    999         0   \n",
      "110    telephone   may         mon  ...         1    999         0   \n",
      "128    telephone   may         mon  ...         2    999         0   \n",
      "187    telephone   may         mon  ...         1    999         0   \n",
      "...          ...   ...         ...  ...       ...    ...       ...   \n",
      "41178   cellular   nov         thu  ...         2      6         3   \n",
      "41179   cellular   nov         fri  ...         3    999         0   \n",
      "41183   cellular   nov         fri  ...         1    999         0   \n",
      "41185   cellular   nov         fri  ...         2    999         0   \n",
      "41187   cellular   nov         fri  ...         3    999         1   \n",
      "\n",
      "          poutcome emp.var.rate  cons.price.idx  cons.conf.idx  euribor3m  \\\n",
      "15     nonexistent          1.1          93.994          -36.4      4.857   \n",
      "22     nonexistent          1.1          93.994          -36.4      4.857   \n",
      "110    nonexistent          1.1          93.994          -36.4      4.857   \n",
      "128    nonexistent          1.1          93.994          -36.4      4.857   \n",
      "187    nonexistent          1.1          93.994          -36.4      4.857   \n",
      "...            ...          ...             ...            ...        ...   \n",
      "41178      success         -1.1          94.767          -50.8      1.031   \n",
      "41179  nonexistent         -1.1          94.767          -50.8      1.028   \n",
      "41183  nonexistent         -1.1          94.767          -50.8      1.028   \n",
      "41185  nonexistent         -1.1          94.767          -50.8      1.028   \n",
      "41187      failure         -1.1          94.767          -50.8      1.028   \n",
      "\n",
      "       nr.employed    y  \n",
      "15          5191.0   no  \n",
      "22          5191.0   no  \n",
      "110         5191.0   no  \n",
      "128         5191.0   no  \n",
      "187         5191.0   no  \n",
      "...            ...  ...  \n",
      "41178       4963.6  yes  \n",
      "41179       4963.6   no  \n",
      "41183       4963.6  yes  \n",
      "41185       4963.6   no  \n",
      "41187       4963.6   no  \n",
      "\n",
      "[1952 rows x 21 columns]\n"
     ]
    }
   ],
   "source": [
    "#Neste outro exemplo, usamos a condição | , que é equivalente ao 'ou', quando pelo menos uma\n",
    "#das condições selecionadas é verdadeira. Agora vamos selecionar no dataframe 'marketing'\n",
    "#pessoas acima de 60 anos ou que tem como 'job' o 'retired'\n",
    "market_60_ret = marketing[(marketing['age']>60) | (marketing['job']=='retired')]\n",
    "print(market_60_ret)"
   ]
  },
  {
   "cell_type": "code",
   "execution_count": 41,
   "id": "1421e469-ec88-41e4-a620-d210b0ff2c6e",
   "metadata": {},
   "outputs": [
    {
     "name": "stdout",
     "output_type": "stream",
     "text": [
      "       age            job   marital            education  default  housing  \\\n",
      "15      54        retired   married             basic.9y  unknown      yes   \n",
      "22      55        retired    single          high.school       no      yes   \n",
      "27      39  self-employed   married             basic.9y  unknown       no   \n",
      "29      55        unknown   married    university.degree  unknown  unknown   \n",
      "35      55        unknown   married             basic.4y  unknown      yes   \n",
      "...    ...            ...       ...                  ...      ...      ...   \n",
      "41178   62        retired   married    university.degree       no       no   \n",
      "41179   64        retired  divorced  professional.course       no      yes   \n",
      "41183   73        retired   married  professional.course       no      yes   \n",
      "41185   56        retired   married    university.degree       no      yes   \n",
      "41187   74        retired   married  professional.course       no      yes   \n",
      "\n",
      "          loan    contact month day_of_week  ...  campaign  pdays  previous  \\\n",
      "15         yes  telephone   may         mon  ...         1    999         0   \n",
      "22          no  telephone   may         mon  ...         1    999         0   \n",
      "27          no  telephone   may         mon  ...         1    999         0   \n",
      "29     unknown  telephone   may         mon  ...         1    999         0   \n",
      "35          no  telephone   may         mon  ...         1    999         0   \n",
      "...        ...        ...   ...         ...  ...       ...    ...       ...   \n",
      "41178       no   cellular   nov         thu  ...         2      6         3   \n",
      "41179       no   cellular   nov         fri  ...         3    999         0   \n",
      "41183       no   cellular   nov         fri  ...         1    999         0   \n",
      "41185       no   cellular   nov         fri  ...         2    999         0   \n",
      "41187       no   cellular   nov         fri  ...         3    999         1   \n",
      "\n",
      "          poutcome emp.var.rate  cons.price.idx  cons.conf.idx  euribor3m  \\\n",
      "15     nonexistent          1.1          93.994          -36.4      4.857   \n",
      "22     nonexistent          1.1          93.994          -36.4      4.857   \n",
      "27     nonexistent          1.1          93.994          -36.4      4.857   \n",
      "29     nonexistent          1.1          93.994          -36.4      4.857   \n",
      "35     nonexistent          1.1          93.994          -36.4      4.857   \n",
      "...            ...          ...             ...            ...        ...   \n",
      "41178      success         -1.1          94.767          -50.8      1.031   \n",
      "41179  nonexistent         -1.1          94.767          -50.8      1.028   \n",
      "41183  nonexistent         -1.1          94.767          -50.8      1.028   \n",
      "41185  nonexistent         -1.1          94.767          -50.8      1.028   \n",
      "41187      failure         -1.1          94.767          -50.8      1.028   \n",
      "\n",
      "       nr.employed    y  \n",
      "15          5191.0   no  \n",
      "22          5191.0   no  \n",
      "27          5191.0   no  \n",
      "29          5191.0   no  \n",
      "35          5191.0   no  \n",
      "...            ...  ...  \n",
      "41178       4963.6  yes  \n",
      "41179       4963.6   no  \n",
      "41183       4963.6  yes  \n",
      "41185       4963.6   no  \n",
      "41187       4963.6   no  \n",
      "\n",
      "[4346 rows x 21 columns]\n"
     ]
    }
   ],
   "source": [
    "#Ainda, podemos utilizar a função isin para selecionar dentre as colunas apenas as linhas que\n",
    "#correspondam a determinado valor ou texto. Vamos selecionar no dataframe marketing apenas\n",
    "#as pessoas cuja ocupação é 'retired', 'student', 'unknown' e 'self-employed'.\n",
    "market_prof = marketing[marketing['job'].isin(['retired', 'student', 'unknown', 'self-employed'])]\n",
    "print(market_prof)"
   ]
  },
  {
   "cell_type": "code",
   "execution_count": 42,
   "id": "103830c0-b6bb-44af-a190-b321c0f8b1ed",
   "metadata": {},
   "outputs": [
    {
     "name": "stdout",
     "output_type": "stream",
     "text": [
      "                  time                          place     status  tsunami  \\\n",
      "4         631155824490         16km N of Fillmore, CA   reviewed        0   \n",
      "5         631155853760         16km N of Fillmore, CA   reviewed        0   \n",
      "14        631158697890         16km N of Fillmore, CA   reviewed        0   \n",
      "27        631166964990      20km ENE of Coachella, CA   reviewed        0   \n",
      "29        631167254570         15km NE of Thermal, CA   reviewed        0   \n",
      "...                ...                            ...        ...      ...   \n",
      "3445740  1690624937570        6 km NNW of Cabazon, CA  automatic        0   \n",
      "3445741  1690625310020        4 km SW of Redlands, CA  automatic        0   \n",
      "3445743  1690626164400        16 km ESE of Julian, CA  automatic        0   \n",
      "3445745  1690626815980  0 km SW of Universal City, CA  automatic        0   \n",
      "3445749  1690628146040             7 km W of Cobb, CA  automatic        0   \n",
      "\n",
      "         significance   data_type  magnitudo       state   longitude  \\\n",
      "4                 134  earthquake       2.95  California -118.934000   \n",
      "5                 118  earthquake       2.77  California -118.923000   \n",
      "14                 46  earthquake       1.73  California -118.937000   \n",
      "27                 47  earthquake       1.74  California -115.991000   \n",
      "29                 63  earthquake       2.03  California -116.022000   \n",
      "...               ...         ...        ...         ...         ...   \n",
      "3445740             7  earthquake       0.67  California -116.810833   \n",
      "3445741            16  earthquake       1.01  California -117.215500   \n",
      "3445743            11  earthquake       0.85  California -116.432833   \n",
      "3445745            16  earthquake       1.03  California -118.356833   \n",
      "3445749            16  earthquake       1.03  California -122.800499   \n",
      "\n",
      "          latitude   depth                              date  \n",
      "4        34.546000  16.122  1990-01-01 01:03:44.490000+00:00  \n",
      "5        34.543000  16.342  1990-01-01 01:04:13.760000+00:00  \n",
      "14       34.545000  15.422  1990-01-01 01:51:37.890000+00:00  \n",
      "27       33.774000   2.646  1990-01-01 04:09:24.990000+00:00  \n",
      "29       33.735000   8.186  1990-01-01 04:14:14.570000+00:00  \n",
      "...            ...     ...                               ...  \n",
      "3445740  33.972167  17.520  2023-07-29 10:02:17.570000+00:00  \n",
      "3445741  34.030167  14.450  2023-07-29 10:08:30.020000+00:00  \n",
      "3445743  33.035833   7.370  2023-07-29 10:22:44.400000+00:00  \n",
      "3445745  34.135500  15.710  2023-07-29 10:33:35.980000+00:00  \n",
      "3445749  38.827499   1.720  2023-07-29 10:55:46.040000+00:00  \n",
      "\n",
      "[494702 rows x 12 columns]\n"
     ]
    }
   ],
   "source": [
    "terremotos_state = terremotos[terremotos['state'].isin(['California', 'Nevada', 'Hawaii'])]\n",
    "print(terremotos_state)"
   ]
  },
  {
   "cell_type": "markdown",
   "id": "68a604df-827a-4c5a-92cb-4eebefc950d6",
   "metadata": {},
   "source": [
    "CRIAÇÃO E MODIFICAÇÃO DE NOVAS COLUNAS\n",
    "\n",
    "Utilização de técnicas matemáticas e estatísticas para a criação e modificação dos valores das colunas"
   ]
  },
  {
   "cell_type": "code",
   "execution_count": 43,
   "id": "c699c083-7656-4195-8f1c-1a93674b8bf6",
   "metadata": {},
   "outputs": [
    {
     "name": "stdout",
     "output_type": "stream",
     "text": [
      "        distance_from_home  distance_from_home_km\n",
      "0                57.877857              93.145150\n",
      "1                10.829943              17.429060\n",
      "2                 5.091079               8.193278\n",
      "3                 2.247564               3.617095\n",
      "4                44.190936              71.118241\n",
      "...                    ...                    ...\n",
      "999995            2.207101               3.551975\n",
      "999996           19.872726              31.981972\n",
      "999997            2.914857               4.690996\n",
      "999998            4.258729               6.853744\n",
      "999999           58.108125              93.515730\n",
      "\n",
      "[1000000 rows x 2 columns]\n",
      "        distance_from_last_transaction  distance_from_last_transaction_km\n",
      "0                             0.311140                           0.500730\n",
      "1                             0.175592                           0.282586\n",
      "2                             0.805153                           1.295764\n",
      "3                             5.600044                           9.012374\n",
      "4                             0.566486                           0.911669\n",
      "...                                ...                                ...\n",
      "999995                        0.112651                           0.181294\n",
      "999996                        2.683904                           4.319314\n",
      "999997                        1.472687                           2.370054\n",
      "999998                        0.242023                           0.389498\n",
      "999999                        0.318110                           0.511947\n",
      "\n",
      "[1000000 rows x 2 columns]\n"
     ]
    }
   ],
   "source": [
    "#Novas colunas podem ser criadas a partir de operações aritméticas com colunas existentes,\n",
    "#como a soma, subtração, multiplicação, divisão e derivadas. Neste exemplo, vamos transformar\n",
    "#a medida de milhas para km, criando uma nova coluna para a variável 'distance_from_home' e \n",
    "#'distance_from_last_transaction' e multiplicando seus valores por 1.60934\n",
    "fraudes['distance_from_home_km'] = fraudes['distance_from_home'] * 1.60934\n",
    "fraudes['distance_from_last_transaction_km'] = fraudes['distance_from_last_transaction'] * 1.60934\n",
    "\n",
    "print(fraudes[['distance_from_home','distance_from_home_km']])\n",
    "print(fraudes[['distance_from_last_transaction','distance_from_last_transaction_km']])"
   ]
  },
  {
   "cell_type": "code",
   "execution_count": 44,
   "id": "3be9590d-2afe-4d6d-81c2-1833d6253fa6",
   "metadata": {},
   "outputs": [
    {
     "name": "stdout",
     "output_type": "stream",
     "text": [
      "         magnitudo  magnitudo_norm\n",
      "0             2.50        0.562272\n",
      "1             1.41       -0.281999\n",
      "2             1.11       -0.514367\n",
      "3             0.98       -0.615060\n",
      "4             2.95        0.910824\n",
      "...            ...             ...\n",
      "3445746       4.60        2.188848\n",
      "3445747       1.70       -0.057376\n",
      "3445748       2.42        0.500307\n",
      "3445749       1.03       -0.576332\n",
      "3445750       0.90       -0.677025\n",
      "\n",
      "[3445751 rows x 2 columns]\n"
     ]
    }
   ],
   "source": [
    "#Podemos também utilizar operações matemáticas para 'normalizar' algumas variáveis do dataframe\n",
    "#Neste exemplo, normalizamos a coluna 'magnitudo' do dataframe terremotos\n",
    "terremotos['magnitudo_norm'] = (terremotos['magnitudo'] - terremotos['magnitudo'].mean())/terremotos['magnitudo'].std()\n",
    "print(terremotos[['magnitudo','magnitudo_norm']])"
   ]
  },
  {
   "cell_type": "markdown",
   "id": "25f8c7f2-209b-4dd6-93cb-c88c8a2c037b",
   "metadata": {},
   "source": [
    "ESTATÍSTICAS DESCRITIVAS\n",
    "\n",
    "Cálculo das principais estatísticas descritivas de colunas dos dataframes através das seguintes funções:\n",
    "\n",
    ".mean()\n",
    ".median()\n",
    ".mode()\n",
    ".max()\n",
    ".min()\n",
    ".quantile()\n",
    ".agg()\n",
    "\n",
    "Adicionalmente, analisou-se a identificação de outliers através do IQR"
   ]
  },
  {
   "cell_type": "code",
   "execution_count": 45,
   "id": "b018dd30-1ee3-4c90-951a-737887c8ff3d",
   "metadata": {},
   "outputs": [
    {
     "name": "stdout",
     "output_type": "stream",
     "text": [
      "40.02406040594348\n",
      "38.0\n",
      "0    31\n",
      "Name: age, dtype: int64\n"
     ]
    }
   ],
   "source": [
    "#Vamos calcular as principais medidas de tendência central para as colunas 'age' do dataframe marketing \n",
    "print(marketing['age'].mean())\n",
    "print(marketing['age'].median())\n",
    "print(marketing['age'].mode())"
   ]
  },
  {
   "cell_type": "code",
   "execution_count": 46,
   "id": "d8b1fb81-9398-4367-8181-47e4d46a4742",
   "metadata": {},
   "outputs": [
    {
     "name": "stdout",
     "output_type": "stream",
     "text": [
      "age                 40.024060\n",
      "duration           258.285010\n",
      "campaign             2.567593\n",
      "pdays              962.475454\n",
      "previous             0.172963\n",
      "emp.var.rate         0.081886\n",
      "cons.price.idx      93.575664\n",
      "cons.conf.idx      -40.502600\n",
      "euribor3m            3.621291\n",
      "nr.employed       5167.035911\n",
      "dtype: float64\n"
     ]
    },
    {
     "name": "stderr",
     "output_type": "stream",
     "text": [
      "C:\\Users\\CARLOS\\AppData\\Local\\Temp\\ipykernel_18120\\1349986041.py:3: FutureWarning: The default value of numeric_only in DataFrame.mean is deprecated. In a future version, it will default to False. In addition, specifying 'numeric_only=None' is deprecated. Select only valid columns or specify the value of numeric_only to silence this warning.\n",
      "  print(marketing.mean())\n"
     ]
    }
   ],
   "source": [
    "#Ao usar as funções no dataframe sem especificar a coluna, calculamos as variáveis para todas as\n",
    "#colunas numéricas\n",
    "print(marketing.mean())"
   ]
  },
  {
   "cell_type": "code",
   "execution_count": 47,
   "id": "fa8a4bb4-0ac2-4bc9-b157-3c05412563c9",
   "metadata": {},
   "outputs": [
    {
     "name": "stdout",
     "output_type": "stream",
     "text": [
      "98\n",
      "17\n",
      "28.0\n",
      "32.0\n",
      "38.0\n",
      "47.0\n",
      "58.0\n"
     ]
    }
   ],
   "source": [
    "#Também podemos analisar outras estatísticas descritivas do mesmo dataframe, como os valores máximo\n",
    "#e mínimo e alguns percentis específicos\n",
    "print(marketing['age'].max())\n",
    "print(marketing['age'].min())\n",
    "print(marketing['age'].quantile(0.10)) #Percentil 10%\n",
    "print(marketing['age'].quantile(0.25)) #Percentil 25%\n",
    "print(marketing['age'].quantile(0.50)) #Percentil 50%\n",
    "print(marketing['age'].quantile(0.75)) #Percentil 75%\n",
    "print(marketing['age'].quantile(0.95)) #Percentil 95%"
   ]
  },
  {
   "cell_type": "code",
   "execution_count": 48,
   "id": "409a97b5-bce4-4ba0-8a52-bddc8cfc7428",
   "metadata": {},
   "outputs": [
    {
     "name": "stdout",
     "output_type": "stream",
     "text": [
      "108.60245116511788\n",
      "10.421249980934048\n"
     ]
    }
   ],
   "source": [
    "#Para analisar a dispersão em torno das medidas de tendência central, podemos calcular a variância\n",
    "#e desvio-padrão das variáveis\n",
    "print(marketing['age'].var())\n",
    "print(marketing['age'].std())"
   ]
  },
  {
   "cell_type": "code",
   "execution_count": 49,
   "id": "6acf5d59-baaf-4996-b4e5-affc9194f899",
   "metadata": {},
   "outputs": [
    {
     "name": "stdout",
     "output_type": "stream",
     "text": [
      "50.02732491389208\n",
      "49.0\n",
      "7.454309967280249\n",
      "32.69248569505217\n",
      "33.0\n",
      "4.514448914142996\n"
     ]
    }
   ],
   "source": [
    "#Ainda, podemos separar grupos para calcular todas as estatísticas descritivas de um conjunto de dados\n",
    "market_maior40 = marketing[marketing['age']>40]\n",
    "market_menor40 = marketing[marketing['age']<=40]\n",
    "\n",
    "print(market_maior40['age'].mean())\n",
    "print(market_maior40['age'].median())\n",
    "print(market_maior40['age'].std())\n",
    "\n",
    "print(market_menor40['age'].mean())\n",
    "print(market_menor40['age'].median())\n",
    "print(market_menor40['age'].std())"
   ]
  },
  {
   "cell_type": "code",
   "execution_count": 50,
   "id": "a4756448-7057-4f42-bba8-540063f85568",
   "metadata": {},
   "outputs": [
    {
     "name": "stdout",
     "output_type": "stream",
     "text": [
      "32.0\n",
      "47.0\n",
      "15.0\n"
     ]
    }
   ],
   "source": [
    "#Para o cálculo do IQR de uma variável, temos que calcular os percentis 25º e 75º\n",
    "Q1 = marketing['age'].quantile(0.25)\n",
    "Q3 = marketing['age'].quantile(0.75)\n",
    "IQR = Q3 - Q1\n",
    "\n",
    "print(Q1)\n",
    "print(Q3)\n",
    "print(IQR)"
   ]
  },
  {
   "cell_type": "code",
   "execution_count": 51,
   "id": "e17d5f26-bfe0-41fb-883c-7aa704ddb0b1",
   "metadata": {},
   "outputs": [
    {
     "name": "stdout",
     "output_type": "stream",
     "text": [
      "69.5\n",
      "9.5\n"
     ]
    }
   ],
   "source": [
    "limite_sup = Q3 + IQR*1.5\n",
    "limite_inf = Q1 - IQR * 1.5\n",
    "\n",
    "print(limite_sup)\n",
    "print(limite_inf)"
   ]
  },
  {
   "cell_type": "code",
   "execution_count": 52,
   "id": "696d181f-571d-42e9-949a-484c53b90d1f",
   "metadata": {},
   "outputs": [
    {
     "name": "stdout",
     "output_type": "stream",
     "text": [
      "(469, 21)\n",
      "       age          job   marital    education  default housing loan  \\\n",
      "27713   70      retired  divorced     basic.4y       no     yes   no   \n",
      "28732   70      retired   married      unknown       no     yes   no   \n",
      "28773   70      retired   married      unknown       no     yes  yes   \n",
      "39896   70  blue-collar   married     basic.4y       no      no  yes   \n",
      "39740   70      retired  divorced  high.school       no     yes   no   \n",
      "...    ...          ...       ...          ...      ...     ...  ...   \n",
      "40469   92      retired   married      unknown       no      no  yes   \n",
      "38921   94      retired   married     basic.9y       no      no   no   \n",
      "27826   95      retired  divorced     basic.6y       no      no   no   \n",
      "38455   98      retired   married     basic.4y  unknown     yes   no   \n",
      "38452   98      retired   married     basic.4y  unknown     yes   no   \n",
      "\n",
      "         contact month day_of_week  ...  campaign  pdays  previous  \\\n",
      "27713   cellular   mar         mon  ...         3    999         0   \n",
      "28732   cellular   apr         thu  ...         2    999         0   \n",
      "28773   cellular   apr         thu  ...         1    999         0   \n",
      "39896   cellular   jun         fri  ...         1      3         1   \n",
      "39740  telephone   may         wed  ...         2      4         2   \n",
      "...          ...   ...         ...  ...       ...    ...       ...   \n",
      "40469   cellular   aug         wed  ...         1      3         4   \n",
      "38921   cellular   nov         wed  ...         1    999         1   \n",
      "27826   cellular   mar         thu  ...         1    999         0   \n",
      "38455   cellular   oct         fri  ...         2    999         0   \n",
      "38452   cellular   oct         fri  ...         1      2         2   \n",
      "\n",
      "          poutcome emp.var.rate  cons.price.idx  cons.conf.idx  euribor3m  \\\n",
      "27713  nonexistent         -1.8          92.843          -50.0      1.811   \n",
      "28732  nonexistent         -1.8          93.075          -47.1      1.410   \n",
      "28773  nonexistent         -1.8          93.075          -47.1      1.410   \n",
      "39896      success         -1.7          94.055          -39.8      0.732   \n",
      "39740      success         -1.8          93.876          -40.0      0.697   \n",
      "...            ...          ...             ...            ...        ...   \n",
      "40469      success         -1.7          94.027          -38.3      0.903   \n",
      "38921      failure         -3.4          92.649          -30.1      0.716   \n",
      "27826  nonexistent         -1.8          92.843          -50.0      1.650   \n",
      "38455  nonexistent         -3.4          92.431          -26.9      0.730   \n",
      "38452      success         -3.4          92.431          -26.9      0.730   \n",
      "\n",
      "       nr.employed    y  \n",
      "27713       5099.1  yes  \n",
      "28732       5099.1  yes  \n",
      "28773       5099.1   no  \n",
      "39896       4991.6  yes  \n",
      "39740       5008.7  yes  \n",
      "...            ...  ...  \n",
      "40469       4991.6  yes  \n",
      "38921       5017.5   no  \n",
      "27826       5099.1   no  \n",
      "38455       5017.5  yes  \n",
      "38452       5017.5  yes  \n",
      "\n",
      "[469 rows x 21 columns]\n"
     ]
    },
    {
     "name": "stderr",
     "output_type": "stream",
     "text": [
      "C:\\Users\\CARLOS\\AppData\\Local\\Temp\\ipykernel_18120\\1180589826.py:5: SettingWithCopyWarning: \n",
      "A value is trying to be set on a copy of a slice from a DataFrame\n",
      "\n",
      "See the caveats in the documentation: https://pandas.pydata.org/pandas-docs/stable/user_guide/indexing.html#returning-a-view-versus-a-copy\n",
      "  outliers.sort_values('age', inplace=True)\n"
     ]
    }
   ],
   "source": [
    "#Agora precisamos calcular os limites superior e inferior para identificar os outliers\n",
    "#O limite superior são os valores acima do Q3 + IQR*1.5\n",
    "#O limite superior são os valores abaixo do Q1 + IQR*1.5\n",
    "outliers = marketing[(marketing['age']>limite_sup) | (marketing['age']<limite_inf)]\n",
    "outliers.sort_values('age', inplace=True)\n",
    "print(outliers.shape)\n",
    "print(outliers)"
   ]
  },
  {
   "cell_type": "code",
   "execution_count": 53,
   "id": "b1e0def5-873f-4e43-bc3a-e68e41c966fc",
   "metadata": {},
   "outputs": [
    {
     "name": "stdout",
     "output_type": "stream",
     "text": [
      "mean    40.02406\n",
      "min     17.00000\n",
      "max     98.00000\n",
      "Name: age, dtype: float64\n"
     ]
    }
   ],
   "source": [
    "#A função de agregação permite aplicar várias funções de agregação a um dataframe\n",
    "print(marketing['age'].agg(['mean', 'min', 'max']))"
   ]
  },
  {
   "cell_type": "code",
   "execution_count": 54,
   "id": "defa1699-da49-46f3-91a2-4a44bddfc4f3",
   "metadata": {},
   "outputs": [
    {
     "name": "stdout",
     "output_type": "stream",
     "text": [
      "             age      job   marital education default housing loan    contact  \\\n",
      "mean    40.02406      NaN       NaN       NaN     NaN     NaN  NaN        NaN   \n",
      "median  38.00000      NaN       NaN       NaN     NaN     NaN  NaN        NaN   \n",
      "min     17.00000   admin.  divorced  basic.4y      no      no   no   cellular   \n",
      "max     98.00000  unknown   unknown   unknown     yes     yes  yes  telephone   \n",
      "\n",
      "       month day_of_week  ...   campaign       pdays  previous  poutcome  \\\n",
      "mean     NaN         NaN  ...   2.567593  962.475454  0.172963       NaN   \n",
      "median   NaN         NaN  ...   2.000000  999.000000  0.000000       NaN   \n",
      "min      apr         fri  ...   1.000000    0.000000  0.000000   failure   \n",
      "max      sep         wed  ...  56.000000  999.000000  7.000000   success   \n",
      "\n",
      "       emp.var.rate  cons.price.idx  cons.conf.idx  euribor3m  nr.employed  \\\n",
      "mean       0.081886       93.575664       -40.5026   3.621291  5167.035911   \n",
      "median     1.100000       93.749000       -41.8000   4.857000  5191.000000   \n",
      "min       -3.400000       92.201000       -50.8000   0.634000  4963.600000   \n",
      "max        1.400000       94.767000       -26.9000   5.045000  5228.100000   \n",
      "\n",
      "          y  \n",
      "mean    NaN  \n",
      "median  NaN  \n",
      "min      no  \n",
      "max     yes  \n",
      "\n",
      "[4 rows x 21 columns]\n"
     ]
    },
    {
     "name": "stderr",
     "output_type": "stream",
     "text": [
      "C:\\Users\\CARLOS\\AppData\\Local\\Temp\\ipykernel_18120\\4140440867.py:3: FutureWarning: ['job', 'marital', 'education', 'default', 'housing', 'loan', 'contact', 'month', 'day_of_week', 'poutcome', 'y'] did not aggregate successfully. If any error is raised this will raise in a future version of pandas. Drop these columns/ops to avoid this warning.\n",
      "  print(marketing.agg(['mean', 'median', 'min', 'max']))\n"
     ]
    }
   ],
   "source": [
    "#Caso a função seja aplicada ao dataframe, ela vai calcular as estatísticas descritivas para cada coluna\n",
    "#adaptando o seu valor de acordo com a classe da coluna\n",
    "print(marketing.agg(['mean', 'median', 'min', 'max']))"
   ]
  },
  {
   "cell_type": "code",
   "execution_count": 55,
   "id": "0e2274d7-1e5d-4b27-a017-09bf8477b9fe",
   "metadata": {},
   "outputs": [
    {
     "name": "stdout",
     "output_type": "stream",
     "text": [
      "               age      duration      campaign         pdays      previous  \\\n",
      "count  41188.00000  41188.000000  41188.000000  41188.000000  41188.000000   \n",
      "mean      40.02406    258.285010      2.567593    962.475454      0.172963   \n",
      "std       10.42125    259.279249      2.770014    186.910907      0.494901   \n",
      "min       17.00000      0.000000      1.000000      0.000000      0.000000   \n",
      "25%       32.00000    102.000000      1.000000    999.000000      0.000000   \n",
      "50%       38.00000    180.000000      2.000000    999.000000      0.000000   \n",
      "75%       47.00000    319.000000      3.000000    999.000000      0.000000   \n",
      "max       98.00000   4918.000000     56.000000    999.000000      7.000000   \n",
      "\n",
      "       emp.var.rate  cons.price.idx  cons.conf.idx     euribor3m   nr.employed  \n",
      "count  41188.000000    41188.000000   41188.000000  41188.000000  41188.000000  \n",
      "mean       0.081886       93.575664     -40.502600      3.621291   5167.035911  \n",
      "std        1.570960        0.578840       4.628198      1.734447     72.251528  \n",
      "min       -3.400000       92.201000     -50.800000      0.634000   4963.600000  \n",
      "25%       -1.800000       93.075000     -42.700000      1.344000   5099.100000  \n",
      "50%        1.100000       93.749000     -41.800000      4.857000   5191.000000  \n",
      "75%        1.400000       93.994000     -36.400000      4.961000   5228.100000  \n",
      "max        1.400000       94.767000     -26.900000      5.045000   5228.100000  \n"
     ]
    }
   ],
   "source": [
    "#Lembrando que a função describe consegue calcular de forma agregada todas estas estatísticas descritivas\n",
    "print(marketing.describe())"
   ]
  },
  {
   "cell_type": "code",
   "execution_count": 56,
   "id": "97203753-e824-4d52-93e2-2d29eadd616d",
   "metadata": {},
   "outputs": [
    {
     "name": "stdout",
     "output_type": "stream",
     "text": [
      "          Data  prod_oleo_mes\n",
      "0   1995-01-01          21240\n",
      "1   1995-02-01          21270\n",
      "2   1995-03-01          21090\n",
      "3   1995-04-01          21150\n",
      "4   1995-05-01           9390\n",
      "..         ...            ...\n",
      "341 2023-06-01         101010\n",
      "342 2023-07-01         105390\n",
      "343 2023-08-01         103860\n",
      "344 2023-09-01         110160\n",
      "345 2023-10-01         106290\n",
      "\n",
      "[346 rows x 2 columns]\n"
     ]
    }
   ],
   "source": [
    "#Para analisar valores agregados, primeiramente temos que normalizar as colunas de valores/dia\n",
    "#Criamos uma nova coluna de produção de óleo bruto (mil barris/dia), que seria a produção acumulada mensal\n",
    "energia['prod_oleo_mes'] = energia['Prod_Óleo bruto Barris/dia (mil)']*30\n",
    "prod_oleo_mes = energia[['Data','prod_oleo_mes']]\n",
    "print(prod_oleo_mes)"
   ]
  },
  {
   "cell_type": "code",
   "execution_count": 57,
   "id": "4c4bd24b-91ec-4c6b-ad21-80eb54902ed5",
   "metadata": {},
   "outputs": [
    {
     "name": "stdout",
     "output_type": "stream",
     "text": [
      "2003010\n"
     ]
    }
   ],
   "source": [
    "#Em seguida, podemos calcular a produção de petróleo desde 2022\n",
    "#Primeiramente devemos fazer um filtro para este ano\n",
    "prod_oleo_2022 = prod_oleo_mes[prod_oleo_mes['Data']>'2022-01-01']\n",
    "print(prod_oleo_2022['prod_oleo_mes'].sum())"
   ]
  },
  {
   "cell_type": "code",
   "execution_count": 58,
   "id": "45aad2e2-9b68-45f8-9089-be13a72c2bf5",
   "metadata": {},
   "outputs": [
    {
     "name": "stdout",
     "output_type": "stream",
     "text": [
      "          Data  prod_oleo_mes     acum\n",
      "325 2022-02-01          87510    87510\n",
      "326 2022-03-01          89430   176940\n",
      "327 2022-04-01          89970   266910\n",
      "328 2022-05-01          86370   353280\n",
      "329 2022-06-01          84870   438150\n",
      "330 2022-07-01          88890   527040\n",
      "331 2022-08-01          92610   619650\n",
      "332 2022-09-01          94440   714090\n",
      "333 2022-10-01          97350   811440\n",
      "334 2022-11-01          92850   904290\n",
      "335 2022-12-01          92220   996510\n",
      "336 2023-01-01          98220  1094730\n",
      "337 2023-02-01          97860  1192590\n",
      "338 2023-03-01          93450  1286040\n",
      "339 2023-04-01          94230  1380270\n",
      "340 2023-05-01          96030  1476300\n",
      "341 2023-06-01         101010  1577310\n",
      "342 2023-07-01         105390  1682700\n",
      "343 2023-08-01         103860  1786560\n",
      "344 2023-09-01         110160  1896720\n",
      "345 2023-10-01         106290  2003010\n"
     ]
    },
    {
     "name": "stderr",
     "output_type": "stream",
     "text": [
      "C:\\Users\\CARLOS\\AppData\\Local\\Temp\\ipykernel_18120\\468120090.py:2: SettingWithCopyWarning: \n",
      "A value is trying to be set on a copy of a slice from a DataFrame.\n",
      "Try using .loc[row_indexer,col_indexer] = value instead\n",
      "\n",
      "See the caveats in the documentation: https://pandas.pydata.org/pandas-docs/stable/user_guide/indexing.html#returning-a-view-versus-a-copy\n",
      "  prod_oleo_2022['acum']=prod_oleo_2022['prod_oleo_mes'].cumsum()\n"
     ]
    }
   ],
   "source": [
    "#Outra opção é gerar uma nova coluna com o somatório acumulado da produção de petróleo desde 2022\n",
    "prod_oleo_2022['acum']=prod_oleo_2022['prod_oleo_mes'].cumsum()\n",
    "print(prod_oleo_2022)"
   ]
  },
  {
   "cell_type": "code",
   "execution_count": 59,
   "id": "69a948a7-7299-4442-9af3-ad9627e1289e",
   "metadata": {},
   "outputs": [
    {
     "name": "stdout",
     "output_type": "stream",
     "text": [
      "19908540\n",
      "          Data  prod_oleo_mes      acum\n",
      "0   1995-01-01          21240     21240\n",
      "1   1995-02-01          21270     42510\n",
      "2   1995-03-01          21090     63600\n",
      "3   1995-04-01          21150     84750\n",
      "4   1995-05-01           9390     94140\n",
      "..         ...            ...       ...\n",
      "341 2023-06-01         101010  19482840\n",
      "342 2023-07-01         105390  19588230\n",
      "343 2023-08-01         103860  19692090\n",
      "344 2023-09-01         110160  19802250\n",
      "345 2023-10-01         106290  19908540\n",
      "\n",
      "[346 rows x 3 columns]\n"
     ]
    }
   ],
   "source": [
    "#Também posso verificar no dataframe completo qual a produção de petróleo do início ao fim da série\n",
    "#e qual a produção acumulada mês a mês\n",
    "energia['acum'] = energia['prod_oleo_mes'].cumsum()\n",
    "print(energia['prod_oleo_mes'].sum())\n",
    "print(energia[['Data','prod_oleo_mes','acum']])"
   ]
  },
  {
   "cell_type": "markdown",
   "id": "b0bbc609-c116-4e29-927e-7fedce9deda8",
   "metadata": {},
   "source": [
    "GRUPOS\n",
    "\n",
    "Técnicas e funções de contagem do número de grupos e observações, além do agrupamento de variáveis para o cálculo de estatísticas descritivas. Utilizou-se as funções:\n",
    "\n",
    ".count()\n",
    ".nunique()\n",
    ".value_counts()\n",
    ".groupby()\n",
    ".pivot_table()"
   ]
  },
  {
   "cell_type": "code",
   "execution_count": 60,
   "id": "c912782d-4a1f-44c6-ac37-bee060252b3b",
   "metadata": {},
   "outputs": [
    {
     "name": "stdout",
     "output_type": "stream",
     "text": [
      "3445751\n"
     ]
    }
   ],
   "source": [
    "#Utilização da função count para contar quantas observações não nulas há em uma coluna\n",
    "print(terremotos['state'].count())"
   ]
  },
  {
   "cell_type": "code",
   "execution_count": 61,
   "id": "3a50fc56",
   "metadata": {},
   "outputs": [
    {
     "name": "stdout",
     "output_type": "stream",
     "text": [
      "time              3445751\n",
      "place             3445751\n",
      "status            3445751\n",
      "tsunami           3445751\n",
      "significance      3445751\n",
      "data_type         3445751\n",
      "magnitudo         3445751\n",
      "state             3445751\n",
      "longitude         3445751\n",
      "latitude          3445751\n",
      "depth             3445751\n",
      "date              3445751\n",
      "magnitudo_norm    3445751\n",
      "dtype: int64\n"
     ]
    }
   ],
   "source": [
    "#Coincidentemente, o número de células não nulas é igual ao número de linhas, pois este dataframe não possui valores nulos\n",
    "#Também podemos utilizar esta função em todo o dataframe e não apenas em uma coluna específica\n",
    "print(terremotos.count())"
   ]
  },
  {
   "cell_type": "code",
   "execution_count": 62,
   "id": "ae7b1180",
   "metadata": {},
   "outputs": [
    {
     "name": "stdout",
     "output_type": "stream",
     "text": [
      "A    7\n",
      "B    4\n",
      "C    8\n",
      "dtype: int64\n"
     ]
    }
   ],
   "source": [
    "#Podemos criar um dataframe específico, que contenha valores nulos, para se analisar este número\n",
    "df = pd.DataFrame({\n",
    "    'A': [1, 2, None, 4, 5, 6, 7, 8],\n",
    "    'B': [None, 2, 3, 4, None, None, 7, None],\n",
    "    'C': [1, 2, 3, 4, 5, 6, 7, 8]\n",
    "})\n",
    "\n",
    "print(df.count())"
   ]
  },
  {
   "cell_type": "code",
   "execution_count": 63,
   "id": "c8d43a9a-30d0-49e3-abee-b9edadf88013",
   "metadata": {},
   "outputs": [
    {
     "name": "stdout",
     "output_type": "stream",
     "text": [
      "858\n",
      "25\n"
     ]
    }
   ],
   "source": [
    "#Utilização da função nunique para contar em quantos estados diferentes houve terremotos\n",
    "print(terremotos['state'].nunique())\n",
    "#Também podemos analisar as categorias de terremotos registradas\n",
    "print(terremotos['data_type'].nunique())"
   ]
  },
  {
   "cell_type": "code",
   "execution_count": 64,
   "id": "457f55f9-ef88-4528-a826-307bf6311c6a",
   "metadata": {},
   "outputs": [
    {
     "name": "stdout",
     "output_type": "stream",
     "text": [
      " California                     866675\n",
      " Alaska                         777881\n",
      "California                      491689\n",
      " Nevada                         174065\n",
      " Hawaii                         125336\n",
      "                                 ...  \n",
      " CA Earthquake                       1\n",
      "south of the Chatham Islands         1\n",
      " Eswatini                            1\n",
      " Nigeria                             1\n",
      "North of the Virgin Islands          1\n",
      "Name: state, Length: 858, dtype: int64\n"
     ]
    }
   ],
   "source": [
    "#Com a função value_counts, podemos contar a frequência de valores únicos em uma série\n",
    "print(terremotos['state'].value_counts())"
   ]
  },
  {
   "cell_type": "code",
   "execution_count": 65,
   "id": "159be5c8-95f6-4c2b-a29a-17c06852d406",
   "metadata": {},
   "outputs": [
    {
     "name": "stdout",
     "output_type": "stream",
     "text": [
      "earthquake                    3361846\n",
      "quarry blast                    38865\n",
      "explosion                       26571\n",
      "ice quake                       13838\n",
      "mining explosion                 2177\n",
      "other event                      1706\n",
      "chemical explosion                314\n",
      "rock burst                        182\n",
      "sonic boom                        104\n",
      "nuclear explosion                  56\n",
      "mine collapse                      20\n",
      "volcanic eruption                  17\n",
      "quarry                             15\n",
      "not reported                       12\n",
      "experimental explosion              9\n",
      "landslide                           8\n",
      "acoustic noise                      2\n",
      "rockslide                           2\n",
      "Ice Quake                           1\n",
      "induced or triggered event          1\n",
      "accidental explosion                1\n",
      "meteorite                           1\n",
      "collapse                            1\n",
      "Rock Slide                          1\n",
      "snow avalanche                      1\n",
      "Name: data_type, dtype: int64\n"
     ]
    }
   ],
   "source": [
    "#Também podemos fazer a contagem de quantas categorias de terremoto foram registradas no dataframe\n",
    "print(terremotos['data_type'].value_counts())"
   ]
  },
  {
   "cell_type": "code",
   "execution_count": 66,
   "id": "af07b79f-5e6a-4404-97a1-694a9ef906fe",
   "metadata": {},
   "outputs": [
    {
     "name": "stdout",
     "output_type": "stream",
     "text": [
      "earthquake                    9.756497e-01\n",
      "quarry blast                  1.127911e-02\n",
      "explosion                     7.711236e-03\n",
      "ice quake                     4.015961e-03\n",
      "mining explosion              6.317926e-04\n",
      "other event                   4.951025e-04\n",
      "chemical explosion            9.112672e-05\n",
      "rock burst                    5.281867e-05\n",
      "sonic boom                    3.018210e-05\n",
      "nuclear explosion             1.625190e-05\n",
      "mine collapse                 5.804250e-06\n",
      "volcanic eruption             4.933612e-06\n",
      "quarry                        4.353187e-06\n",
      "not reported                  3.482550e-06\n",
      "experimental explosion        2.611912e-06\n",
      "landslide                     2.321700e-06\n",
      "acoustic noise                5.804250e-07\n",
      "rockslide                     5.804250e-07\n",
      "Ice Quake                     2.902125e-07\n",
      "induced or triggered event    2.902125e-07\n",
      "accidental explosion          2.902125e-07\n",
      "meteorite                     2.902125e-07\n",
      "collapse                      2.902125e-07\n",
      "Rock Slide                    2.902125e-07\n",
      "snow avalanche                2.902125e-07\n",
      "Name: data_type, dtype: float64\n"
     ]
    }
   ],
   "source": [
    "#Também podemos verificar as ocorrências de cada categoria em forma percentual, com o argumento normalize=True\n",
    "print(terremotos['data_type'].value_counts(normalize=True))"
   ]
  },
  {
   "cell_type": "code",
   "execution_count": 67,
   "id": "42b2ee2e-7ea3-4bab-9bce-bafef2321fb2",
   "metadata": {},
   "outputs": [
    {
     "name": "stdout",
     "output_type": "stream",
     "text": [
      "admin.           0.253035\n",
      "blue-collar      0.224677\n",
      "technician       0.163713\n",
      "services         0.096363\n",
      "management       0.070992\n",
      "retired          0.041760\n",
      "entrepreneur     0.035350\n",
      "self-employed    0.034500\n",
      "housemaid        0.025736\n",
      "unemployed       0.024619\n",
      "student          0.021244\n",
      "unknown          0.008012\n",
      "Name: job, dtype: float64\n"
     ]
    }
   ],
   "source": [
    "#O mesmo exemplo utilizado na coluna 'job' do dataframe marketing\n",
    "print(marketing['job'].value_counts(normalize=True))"
   ]
  },
  {
   "cell_type": "code",
   "execution_count": 68,
   "id": "d8883bac-c18f-456b-9b70-0b9fc39421b4",
   "metadata": {},
   "outputs": [
    {
     "name": "stdout",
     "output_type": "stream",
     "text": [
      "housemaid        0.025736\n",
      "services         0.096363\n",
      "admin.           0.253035\n",
      "blue-collar      0.224677\n",
      "technician       0.163713\n",
      "retired          0.041760\n",
      "management       0.070992\n",
      "unemployed       0.024619\n",
      "self-employed    0.034500\n",
      "unknown          0.008012\n",
      "entrepreneur     0.035350\n",
      "student          0.021244\n",
      "Name: job, dtype: float64\n"
     ]
    }
   ],
   "source": [
    "#A função ordena o número de repetições de acordo com os maiores valores\n",
    "#Se não quisermos este tipo de ordenação, podemos mudar o argumento sort para False, seu padrão é True\n",
    "print(marketing['job'].value_counts(normalize=True, sort=False))"
   ]
  },
  {
   "cell_type": "code",
   "execution_count": 69,
   "id": "319cd8a3-9c79-4aed-9704-d522220d3bb9",
   "metadata": {},
   "outputs": [
    {
     "name": "stdout",
     "output_type": "stream",
     "text": [
      "42.30716463414634\n",
      "33.15871369294606\n",
      "44.89939288811795\n"
     ]
    }
   ],
   "source": [
    "#Para calcular estatísticas por grupos, uma primeira maneira é selecionar aquele grupo específico\n",
    "#de interesse e, em seguida, calcular a estatística de interesse. Neste exemplo, vamos calcular\n",
    "#a média de idade para pessoas casadas (married), solteiras (single) e divorciadas (divorced)\n",
    "print(marketing[marketing['marital']=='married']['age'].mean())\n",
    "print(marketing[marketing['marital']=='single']['age'].mean())\n",
    "print(marketing[marketing['marital']=='divorced']['age'].mean())"
   ]
  },
  {
   "cell_type": "code",
   "execution_count": 70,
   "id": "093d5246-3635-4d8c-90c5-2cd3e660c0ff",
   "metadata": {},
   "outputs": [
    {
     "name": "stdout",
     "output_type": "stream",
     "text": [
      "marital\n",
      "divorced    44.899393\n",
      "married     42.307165\n",
      "single      33.158714\n",
      "unknown     40.275000\n",
      "Name: age, dtype: float64\n"
     ]
    }
   ],
   "source": [
    "#Este processo pode ser muito cansativo caso hajam muitas categorias. Uma forma mais inteligente é\n",
    "#utilizar a função groupby e agrupar cada estatística desejada pela respectiva classe\n",
    "#Com apenas uma linha de comando podemos obter a resposta da média de idade para todos os status\n",
    "print(marketing.groupby('marital')['age'].mean())"
   ]
  },
  {
   "cell_type": "code",
   "execution_count": 71,
   "id": "5c45d651-09c3-4ddc-aedc-556a5994b232",
   "metadata": {},
   "outputs": [
    {
     "name": "stdout",
     "output_type": "stream",
     "text": [
      "marital   loan   \n",
      "divorced  no         44.965147\n",
      "          unknown    44.016529\n",
      "          yes        44.685926\n",
      "married   no         42.339184\n",
      "          unknown    42.100340\n",
      "          yes        42.164856\n",
      "single    no         33.146526\n",
      "          unknown    33.639286\n",
      "          yes        33.148210\n",
      "unknown   no         40.716418\n",
      "          unknown    52.000000\n",
      "          yes        36.833333\n",
      "Name: age, dtype: float64\n"
     ]
    }
   ],
   "source": [
    "#Outra forma de utilizar esta função é o agrupamento por mais de uma coluna\n",
    "#Neste caso estamos categorizando as pessoas primeiro pelo seu status (marital), depois se elas possuem\n",
    "#ou não algum empréstimo ativo (loan)\n",
    "print(marketing.groupby(['marital','loan'])['age'].mean())"
   ]
  },
  {
   "cell_type": "code",
   "execution_count": 72,
   "id": "70802aaf-5922-4aba-9c6d-b525bd809d5a",
   "metadata": {},
   "outputs": [
    {
     "name": "stdout",
     "output_type": "stream",
     "text": [
      "               mean median\n",
      "                age    age\n",
      "marital                   \n",
      "divorced  44.899393   44.0\n",
      "married   42.307165   41.0\n",
      "single    33.158714   32.0\n",
      "unknown   40.275000   35.5\n"
     ]
    }
   ],
   "source": [
    "#A função pivot_table é outra forma de calcular estatísticas agregadas por grupo\n",
    "#No argumento value indicamos a coluna onde queremos calcular a estatística agregada\n",
    "#No argumento index indicamos a coluna onde serão divididos os grupos\n",
    "#No argumento aggfunc indicamos as funções que serão calculadas\n",
    "print(marketing.pivot_table(values='age', index='marital', aggfunc=['mean' , 'median']))"
   ]
  },
  {
   "cell_type": "code",
   "execution_count": 73,
   "id": "b6a87bbf-acc6-4e76-acff-31c22a8d5210",
   "metadata": {},
   "outputs": [
    {
     "name": "stdout",
     "output_type": "stream",
     "text": [
      "                       mean median\n",
      "                        age    age\n",
      "marital  loan                     \n",
      "divorced no       44.965147     44\n",
      "         unknown  44.016529     43\n",
      "         yes      44.685926     44\n",
      "married  no       42.339184     41\n",
      "         unknown  42.100340     41\n",
      "         yes      42.164856     41\n",
      "single   no       33.146526     32\n",
      "         unknown  33.639286     32\n",
      "         yes      33.148210     32\n",
      "unknown  no       40.716418     36\n",
      "         unknown  52.000000     52\n",
      "         yes      36.833333     34\n"
     ]
    }
   ],
   "source": [
    "#No argumento index pode ser passada uma lista para o agrupamento de várias colunas\n",
    "#O ponto positivo desta função é que podemos calcular mais de uma estatística na mesma linha de código\n",
    "print(marketing.pivot_table(values='age', index=['marital','loan'], aggfunc=['mean' , 'median']))"
   ]
  },
  {
   "cell_type": "markdown",
   "id": "79e6f6d9",
   "metadata": {},
   "source": [
    "DATAFRAME DATA JOBS"
   ]
  },
  {
   "cell_type": "code",
   "execution_count": 74,
   "id": "8028a58f",
   "metadata": {},
   "outputs": [
    {
     "name": "stdout",
     "output_type": "stream",
     "text": [
      "      work_year                 job_title                    job_category  \\\n",
      "0          2023      Data DevOps Engineer                Data Engineering   \n",
      "1          2023            Data Architect  Data Architecture and Modeling   \n",
      "2          2023            Data Architect  Data Architecture and Modeling   \n",
      "3          2023            Data Scientist       Data Science and Research   \n",
      "4          2023            Data Scientist       Data Science and Research   \n",
      "...         ...                       ...                             ...   \n",
      "9350       2021           Data Specialist    Data Management and Strategy   \n",
      "9351       2020            Data Scientist       Data Science and Research   \n",
      "9352       2021  Principal Data Scientist       Data Science and Research   \n",
      "9353       2020            Data Scientist       Data Science and Research   \n",
      "9354       2020     Business Data Analyst                   Data Analysis   \n",
      "\n",
      "     salary_currency  salary  salary_in_usd employee_residence  \\\n",
      "0                EUR   88000          95012            Germany   \n",
      "1                USD  186000         186000      United States   \n",
      "2                USD   81800          81800      United States   \n",
      "3                USD  212000         212000      United States   \n",
      "4                USD   93300          93300      United States   \n",
      "...              ...     ...            ...                ...   \n",
      "9350             USD  165000         165000      United States   \n",
      "9351             USD  412000         412000      United States   \n",
      "9352             USD  151000         151000      United States   \n",
      "9353             USD  105000         105000      United States   \n",
      "9354             USD  100000         100000      United States   \n",
      "\n",
      "     experience_level employment_type work_setting company_location  \\\n",
      "0           Mid-level       Full-time       Hybrid          Germany   \n",
      "1              Senior       Full-time    In-person    United States   \n",
      "2              Senior       Full-time    In-person    United States   \n",
      "3              Senior       Full-time    In-person    United States   \n",
      "4              Senior       Full-time    In-person    United States   \n",
      "...               ...             ...          ...              ...   \n",
      "9350           Senior       Full-time       Remote    United States   \n",
      "9351           Senior       Full-time       Remote    United States   \n",
      "9352        Mid-level       Full-time       Remote    United States   \n",
      "9353      Entry-level       Full-time       Remote    United States   \n",
      "9354      Entry-level        Contract       Remote    United States   \n",
      "\n",
      "     company_size  \n",
      "0               L  \n",
      "1               M  \n",
      "2               M  \n",
      "3               M  \n",
      "4               M  \n",
      "...           ...  \n",
      "9350            L  \n",
      "9351            L  \n",
      "9352            L  \n",
      "9353            S  \n",
      "9354            L  \n",
      "\n",
      "[9355 rows x 12 columns]\n"
     ]
    }
   ],
   "source": [
    "#Jobs and Salaries in Data Science\n",
    "#https://www.kaggle.com/datasets/hummaamqaasim/jobs-in-data\n",
    "\n",
    "Data_Jobs = pd.read_csv(path+'Dados5 DataJobs.csv')\n",
    "print(Data_Jobs)"
   ]
  },
  {
   "cell_type": "code",
   "execution_count": 75,
   "id": "eb21373d",
   "metadata": {},
   "outputs": [
    {
     "name": "stdout",
     "output_type": "stream",
     "text": [
      "(9355, 12)\n",
      "Index(['work_year', 'job_title', 'job_category', 'salary_currency', 'salary',\n",
      "       'salary_in_usd', 'employee_residence', 'experience_level',\n",
      "       'employment_type', 'work_setting', 'company_location', 'company_size'],\n",
      "      dtype='object')\n"
     ]
    }
   ],
   "source": [
    "print(Data_Jobs.shape)\n",
    "print(Data_Jobs.columns)"
   ]
  },
  {
   "cell_type": "code",
   "execution_count": 76,
   "id": "15d9877c",
   "metadata": {},
   "outputs": [
    {
     "name": "stdout",
     "output_type": "stream",
     "text": [
      "<class 'pandas.core.frame.DataFrame'>\n",
      "RangeIndex: 9355 entries, 0 to 9354\n",
      "Data columns (total 12 columns):\n",
      " #   Column              Non-Null Count  Dtype \n",
      "---  ------              --------------  ----- \n",
      " 0   work_year           9355 non-null   int64 \n",
      " 1   job_title           9355 non-null   object\n",
      " 2   job_category        9355 non-null   object\n",
      " 3   salary_currency     9355 non-null   object\n",
      " 4   salary              9355 non-null   int64 \n",
      " 5   salary_in_usd       9355 non-null   int64 \n",
      " 6   employee_residence  9355 non-null   object\n",
      " 7   experience_level    9355 non-null   object\n",
      " 8   employment_type     9355 non-null   object\n",
      " 9   work_setting        9355 non-null   object\n",
      " 10  company_location    9355 non-null   object\n",
      " 11  company_size        9355 non-null   object\n",
      "dtypes: int64(3), object(9)\n",
      "memory usage: 877.2+ KB\n",
      "None\n"
     ]
    }
   ],
   "source": [
    "print(Data_Jobs.info())"
   ]
  },
  {
   "cell_type": "code",
   "execution_count": 77,
   "id": "8ab7cc51",
   "metadata": {},
   "outputs": [
    {
     "name": "stdout",
     "output_type": "stream",
     "text": [
      "         work_year         salary  salary_in_usd\n",
      "count  9355.000000    9355.000000    9355.000000\n",
      "mean   2022.760449  149927.981293  150299.495564\n",
      "std       0.519470   63608.835387   63177.372024\n",
      "min    2020.000000   14000.000000   15000.000000\n",
      "25%    2023.000000  105200.000000  105700.000000\n",
      "50%    2023.000000  143860.000000  143000.000000\n",
      "75%    2023.000000  187000.000000  186723.000000\n",
      "max    2023.000000  450000.000000  450000.000000\n"
     ]
    }
   ],
   "source": [
    "print(Data_Jobs.describe())"
   ]
  },
  {
   "cell_type": "code",
   "execution_count": 78,
   "id": "90a08aa0",
   "metadata": {},
   "outputs": [],
   "source": [
    "Data_Jobs.sort_values('work_year', inplace=True)"
   ]
  },
  {
   "cell_type": "code",
   "execution_count": 79,
   "id": "352aa7ea",
   "metadata": {},
   "outputs": [
    {
     "name": "stdout",
     "output_type": "stream",
     "text": [
      "job_title\n",
      "Data Engineer                           2195\n",
      "Data Scientist                          1989\n",
      "Data Analyst                            1388\n",
      "Machine Learning Engineer                991\n",
      "Applied Scientist                        272\n",
      "                                        ... \n",
      "Manager Data Management                    1\n",
      "Cloud Data Architect                       1\n",
      "Deep Learning Researcher                   1\n",
      "Machine Learning Operations Engineer       1\n",
      "Staff Machine Learning Engineer            1\n",
      "Length: 125, dtype: int64\n"
     ]
    }
   ],
   "source": [
    "print(Data_Jobs.value_counts('job_title'))"
   ]
  },
  {
   "cell_type": "code",
   "execution_count": 80,
   "id": "2ec8737c",
   "metadata": {},
   "outputs": [
    {
     "name": "stdout",
     "output_type": "stream",
     "text": [
      "work_year\n",
      "2023    7453\n",
      "2022    1634\n",
      "2021     197\n",
      "2020      71\n",
      "dtype: int64\n"
     ]
    }
   ],
   "source": [
    "print(Data_Jobs.value_counts('work_year'))"
   ]
  },
  {
   "cell_type": "code",
   "execution_count": 81,
   "id": "bd9fdf3e",
   "metadata": {},
   "outputs": [
    {
     "name": "stdout",
     "output_type": "stream",
     "text": [
      "job_category\n",
      "Data Science and Research         0.322181\n",
      "Data Engineering                  0.241582\n",
      "Data Analysis                     0.155746\n",
      "Machine Learning and AI           0.152646\n",
      "Leadership and Management         0.053768\n",
      "BI and Visualization              0.033458\n",
      "Data Architecture and Modeling    0.027686\n",
      "Data Management and Strategy      0.006521\n",
      "Data Quality and Operations       0.005879\n",
      "Cloud and Database                0.000534\n",
      "dtype: float64\n"
     ]
    }
   ],
   "source": [
    "print(Data_Jobs.value_counts('job_category', normalize=True))"
   ]
  },
  {
   "cell_type": "code",
   "execution_count": 82,
   "id": "817a36c2",
   "metadata": {},
   "outputs": [
    {
     "name": "stdout",
     "output_type": "stream",
     "text": [
      "experience_level\n",
      "Senior         0.717157\n",
      "Mid-level      0.199786\n",
      "Entry-level    0.053020\n",
      "Executive      0.030037\n",
      "dtype: float64\n"
     ]
    }
   ],
   "source": [
    "print(Data_Jobs.value_counts('experience_level', normalize=True))"
   ]
  },
  {
   "cell_type": "code",
   "execution_count": 83,
   "id": "95b50cc7",
   "metadata": {},
   "outputs": [
    {
     "name": "stdout",
     "output_type": "stream",
     "text": [
      "experience_level\n",
      "Executive      189462.914591\n",
      "Senior         162356.126099\n",
      "Mid-level      117523.918138\n",
      "Entry-level     88534.776210\n",
      "Name: salary_in_usd, dtype: float64\n"
     ]
    }
   ],
   "source": [
    "# Agrupa o DataFrame 'Data_Jobs' pelo 'experience_level', calcula a média do 'salary_in_usd' para cada nível de experiência,\n",
    "# ordena essas médias de salário em ordem decrescente e mostra os resultados.\n",
    "print(Data_Jobs.groupby('experience_level')['salary_in_usd'].mean().sort_values(ascending=False))"
   ]
  },
  {
   "cell_type": "code",
   "execution_count": 84,
   "id": "5011e249",
   "metadata": {},
   "outputs": [
    {
     "name": "stdout",
     "output_type": "stream",
     "text": [
      "job_category\n",
      "Machine Learning and AI           178925.847339\n",
      "Data Science and Research         163758.575979\n",
      "Data Architecture and Modeling    156002.359073\n",
      "Cloud and Database                155000.000000\n",
      "Data Engineering                  146197.656195\n",
      "Leadership and Management         145476.019881\n",
      "BI and Visualization              135092.102236\n",
      "Data Analysis                     108505.721345\n",
      "Data Management and Strategy      103139.934426\n",
      "Data Quality and Operations       100879.472727\n",
      "Name: salary_in_usd, dtype: float64\n"
     ]
    }
   ],
   "source": [
    "# Agrupa o DataFrame 'Data_Jobs' por 'job_category', calcula a média dos salários (salary_in_usd) para cada categoria de trabalho,\n",
    "# ordena as médias dos salários de forma decrescente e exibe os resultados.\n",
    "\n",
    "print(Data_Jobs.groupby('job_category')['salary_in_usd'].mean().sort_values(ascending=False))"
   ]
  },
  {
   "cell_type": "code",
   "execution_count": 85,
   "id": "d453fb66",
   "metadata": {},
   "outputs": [
    {
     "name": "stdout",
     "output_type": "stream",
     "text": [
      "job_category                    experience_level\n",
      "BI and Visualization            Entry-level          85928.571429\n",
      "                                Executive           185566.666667\n",
      "                                Mid-level           102050.017241\n",
      "                                Senior              143181.929752\n",
      "Cloud and Database              Senior              155000.000000\n",
      "Data Analysis                   Entry-level          69962.300000\n",
      "                                Executive           110156.250000\n",
      "                                Mid-level            96316.672544\n",
      "                                Senior              119798.556416\n",
      "Data Architecture and Modeling  Executive           167500.000000\n",
      "                                Mid-level           126637.875000\n",
      "                                Senior              160076.440000\n",
      "Data Engineering                Entry-level          96347.663158\n",
      "                                Executive           187123.273585\n",
      "                                Mid-level           115030.658385\n",
      "                                Senior              156001.776650\n",
      "Data Management and Strategy    Entry-level          91003.846154\n",
      "                                Mid-level           100350.000000\n",
      "                                Senior              110767.357143\n",
      "Data Quality and Operations     Entry-level          36627.000000\n",
      "                                Mid-level            72483.750000\n",
      "                                Senior              118854.166667\n",
      "Data Science and Research       Entry-level         100975.951220\n",
      "                                Executive           206460.246914\n",
      "                                Mid-level           129167.132265\n",
      "                                Senior              174374.719383\n",
      "Leadership and Management       Entry-level          81012.300000\n",
      "                                Executive           189213.964912\n",
      "                                Mid-level           115544.527132\n",
      "                                Senior              152032.166124\n",
      "Machine Learning and AI         Entry-level          89076.390625\n",
      "                                Executive           206510.461538\n",
      "                                Mid-level           141944.595745\n",
      "                                Senior              191544.448925\n",
      "Name: salary_in_usd, dtype: float64\n"
     ]
    }
   ],
   "source": [
    "# Agrupa o DataFrame 'Data_Jobs' primeiramente por 'job_category' e então por 'experience_level',\n",
    "#calcula a média do salário (salary_in_usd) para cada combinação de categoria de trabalho e nível de experiência, e exibe os resultados.\n",
    "\n",
    "print(Data_Jobs.groupby(['job_category','experience_level'])['salary_in_usd'].mean())"
   ]
  },
  {
   "cell_type": "code",
   "execution_count": 86,
   "id": "90d1e63d",
   "metadata": {},
   "outputs": [
    {
     "name": "stdout",
     "output_type": "stream",
     "text": [
      "                      job_category experience_level  salary_in_usd\n",
      "31         Machine Learning and AI        Executive  206510.461538\n",
      "33         Machine Learning and AI           Senior  191544.448925\n",
      "32         Machine Learning and AI        Mid-level  141944.595745\n",
      "30         Machine Learning and AI      Entry-level   89076.390625\n",
      "27       Leadership and Management        Executive  189213.964912\n",
      "29       Leadership and Management           Senior  152032.166124\n",
      "28       Leadership and Management        Mid-level  115544.527132\n",
      "26       Leadership and Management      Entry-level   81012.300000\n",
      "23       Data Science and Research        Executive  206460.246914\n",
      "25       Data Science and Research           Senior  174374.719383\n",
      "24       Data Science and Research        Mid-level  129167.132265\n",
      "22       Data Science and Research      Entry-level  100975.951220\n",
      "21     Data Quality and Operations           Senior  118854.166667\n",
      "20     Data Quality and Operations        Mid-level   72483.750000\n",
      "19     Data Quality and Operations      Entry-level   36627.000000\n",
      "18    Data Management and Strategy           Senior  110767.357143\n",
      "17    Data Management and Strategy        Mid-level  100350.000000\n",
      "16    Data Management and Strategy      Entry-level   91003.846154\n",
      "13                Data Engineering        Executive  187123.273585\n",
      "15                Data Engineering           Senior  156001.776650\n",
      "14                Data Engineering        Mid-level  115030.658385\n",
      "12                Data Engineering      Entry-level   96347.663158\n",
      "9   Data Architecture and Modeling        Executive  167500.000000\n",
      "11  Data Architecture and Modeling           Senior  160076.440000\n",
      "10  Data Architecture and Modeling        Mid-level  126637.875000\n",
      "8                    Data Analysis           Senior  119798.556416\n",
      "6                    Data Analysis        Executive  110156.250000\n",
      "7                    Data Analysis        Mid-level   96316.672544\n",
      "5                    Data Analysis      Entry-level   69962.300000\n",
      "4               Cloud and Database           Senior  155000.000000\n",
      "1             BI and Visualization        Executive  185566.666667\n",
      "3             BI and Visualization           Senior  143181.929752\n",
      "2             BI and Visualization        Mid-level  102050.017241\n",
      "0             BI and Visualization      Entry-level   85928.571429\n"
     ]
    }
   ],
   "source": [
    "# Agrupa o DataFrame 'Data_Jobs' por 'job_category' e 'experience_level', calcula a média do 'salary_in_usd' para cada grupo,\n",
    "# reinicia o índice para transformar os índices de grupo em colunas regulares, ordena o resultado final por 'job_category'\n",
    "# e 'salary_in_usd' em ordem decrescente, e exibe as médias de salário ordenadas por categoria de trabalho.\n",
    "\n",
    "print(Data_Jobs.groupby(['job_category','experience_level'])['salary_in_usd'].mean().reset_index().sort_values(by=['job_category','salary_in_usd'], ascending=False))"
   ]
  },
  {
   "cell_type": "code",
   "execution_count": 87,
   "id": "7217f09a",
   "metadata": {},
   "outputs": [
    {
     "name": "stdout",
     "output_type": "stream",
     "text": [
      "                                         mean           max           min\n",
      "                                salary_in_usd salary_in_usd salary_in_usd\n",
      "job_category                                                             \n",
      "BI and Visualization            135092.102236        259900         15000\n",
      "Cloud and Database              155000.000000        190000        115000\n",
      "Data Analysis                   108505.721345        430967         15000\n",
      "Data Architecture and Modeling  156002.359073        376080         52500\n",
      "Data Engineering                146197.656195        385000         18000\n",
      "Data Management and Strategy    103139.934426        250000         46400\n",
      "Data Quality and Operations     100879.472727        289120         23753\n",
      "Data Science and Research       163758.575979        450000         16000\n",
      "Leadership and Management       145476.019881        430640         20000\n",
      "Machine Learning and AI         178925.847339        423000         15000\n"
     ]
    }
   ],
   "source": [
    "print(Data_Jobs.pivot_table(values='salary_in_usd', index='job_category', aggfunc=['mean' , 'max', 'min']))"
   ]
  },
  {
   "cell_type": "code",
   "execution_count": 88,
   "id": "ec4792cb",
   "metadata": {},
   "outputs": [
    {
     "name": "stdout",
     "output_type": "stream",
     "text": [
      "                           mean           max           min\n",
      "                  salary_in_usd salary_in_usd salary_in_usd\n",
      "experience_level                                           \n",
      "Entry-level        88534.776210        281700         15000\n",
      "Executive         189462.914591        416000         15000\n",
      "Mid-level         117523.918138        450000         15000\n",
      "Senior            162356.126099        412000         18381\n"
     ]
    }
   ],
   "source": [
    "print(Data_Jobs.pivot_table(values='salary_in_usd', index='experience_level', aggfunc=['mean' , 'max', 'min']))"
   ]
  },
  {
   "cell_type": "code",
   "execution_count": 89,
   "id": "ed9ce163",
   "metadata": {},
   "outputs": [
    {
     "name": "stdout",
     "output_type": "stream",
     "text": [
      "                                                          mean        median\n",
      "                                                 salary_in_usd salary_in_usd\n",
      "job_category                   experience_level                             \n",
      "BI and Visualization           Entry-level        85928.571429       78800.0\n",
      "                               Executive         185566.666667      172200.0\n",
      "                               Mid-level         102050.017241       98500.0\n",
      "                               Senior            143181.929752      139600.0\n",
      "Cloud and Database             Senior            155000.000000      160000.0\n",
      "Data Analysis                  Entry-level        69962.300000       67250.0\n",
      "                               Executive         110156.250000      117500.0\n",
      "                               Mid-level          96316.672544       90000.0\n",
      "                               Senior            119798.556416      115934.0\n",
      "Data Architecture and Modeling Executive         167500.000000      167500.0\n",
      "                               Mid-level         126637.875000      115250.0\n",
      "                               Senior            160076.440000      153000.0\n",
      "Data Engineering               Entry-level        96347.663158       85000.0\n",
      "                               Executive         187123.273585      186100.0\n",
      "                               Mid-level         115030.658385      109000.0\n",
      "                               Senior            156001.776650      150000.0\n",
      "Data Management and Strategy   Entry-level        91003.846154       85000.0\n",
      "                               Mid-level         100350.000000       88750.0\n",
      "                               Senior            110767.357143       97500.0\n",
      "Data Quality and Operations    Entry-level        36627.000000       36912.0\n",
      "                               Mid-level          72483.750000       65050.0\n",
      "                               Senior            118854.166667      100000.0\n",
      "Data Science and Research      Entry-level       100975.951220      100000.0\n",
      "                               Executive         206460.246914      200000.0\n",
      "                               Mid-level         129167.132265      125000.0\n",
      "                               Senior            174374.719383      168000.0\n",
      "Leadership and Management      Entry-level        81012.300000       80650.0\n",
      "                               Executive         189213.964912      184560.0\n",
      "                               Mid-level         115544.527132      115500.0\n",
      "                               Senior            152032.166124      145000.0\n",
      "Machine Learning and AI        Entry-level        89076.390625       75043.5\n",
      "                               Executive         206510.461538      200000.0\n",
      "                               Mid-level         141944.595745      134000.0\n",
      "                               Senior            191544.448925      188900.0\n"
     ]
    }
   ],
   "source": [
    "print(Data_Jobs.pivot_table(values='salary_in_usd', index=['job_category','experience_level'], aggfunc=['mean' , 'median']))"
   ]
  },
  {
   "cell_type": "code",
   "execution_count": 90,
   "id": "57d774d0",
   "metadata": {},
   "outputs": [],
   "source": [
    "#Outros Datasets interessantes para análise do mercado de trabalho\n",
    "\n",
    "#Stack Overflow 2023 Developer Survey\n",
    "#https://www.kaggle.com/datasets/stackoverflow/stack-overflow-2023-developers-survey?select=survey_results_public.csv\n",
    "#https://survey.stackoverflow.co/2023/\n",
    "\n",
    "#Salary Prediction\n",
    "#https://www.kaggle.com/datasets/thedevastator/jobs-dataset-from-glassdoor?select=salary_data_cleaned.csv\n",
    "\n",
    "#Data Analyst Job Postings\n",
    "#https://www.kaggle.com/datasets/asaniczka/data-analyst-job-postings"
   ]
  },
  {
   "cell_type": "markdown",
   "id": "e47acce4",
   "metadata": {},
   "source": [
    "GRÁFICOS"
   ]
  },
  {
   "cell_type": "code",
   "execution_count": 91,
   "id": "f73a987b",
   "metadata": {},
   "outputs": [],
   "source": [
    "import matplotlib.pyplot as plt\n",
    "import seaborn as sns"
   ]
  },
  {
   "cell_type": "code",
   "execution_count": 92,
   "id": "9f6a6ca0",
   "metadata": {},
   "outputs": [
    {
     "data": {
      "text/plain": [
       "Index(['Data', 'Prod_Óleo bruto Barris/dia (mil)', 'Prod_LGN Barris/dia (mil)',\n",
       "       'Prod_Produção de derivados de petróleo - Total Barris/dia (mil)',\n",
       "       'Prod_Gás natural Barris/dia (milhões)',\n",
       "       'Consumo de derivados de petróleo - Gasolina Barris/dia (mil)',\n",
       "       'Consumo de GLP Barris/dia (mil)',\n",
       "       'Consumo de Óleo combustível Barris/dia (mil)',\n",
       "       'Consumo de Óleo diesel Barris/dia (mil)',\n",
       "       'Consumo de Demais derivados Barris/dia (mil)',\n",
       "       'Consumo de Total de derivados Barris/dia (mil)',\n",
       "       'Consumo de Álcool hidratado Barris/dia (mil)',\n",
       "       'Consumo de Álcool anidro Barris/dia (mil)',\n",
       "       'Consumo de Total de Álcool carburante Barris/dia (mil)',\n",
       "       'Consumo Energia Comercial GWh', 'Consumo Energia Residencial GWh',\n",
       "       'Consumo Energia Industrial GWh', 'Consumo Energia Outros GWh',\n",
       "       'Consumo Energia Total GWh', 'prod_oleo_mes', 'acum'],\n",
       "      dtype='object')"
      ]
     },
     "execution_count": 92,
     "metadata": {},
     "output_type": "execute_result"
    }
   ],
   "source": [
    "energia.columns"
   ]
  },
  {
   "cell_type": "code",
   "execution_count": 94,
   "id": "0f96a78f",
   "metadata": {},
   "outputs": [
    {
     "data": {
      "image/png": "[encoded data removed]",
      "text/plain": [
       "<Figure size 640x480 with 1 Axes>"
      ]
     },
     "metadata": {},
     "output_type": "display_data"
    }
   ],
   "source": [
    "#GRÁFICO DE LINHA\n",
    "\n",
    "sns.lineplot(data=energia, x='Data', y='Prod_Óleo bruto Barris/dia (mil)')\n",
    "plt.show()"
   ]
  },
  {
   "cell_type": "code",
   "execution_count": 97,
   "id": "fd0c554d",
   "metadata": {},
   "outputs": [
    {
     "data": {
      "image/png": "[encoded data removed]",
      "text/plain": [
       "<Figure size 640x480 with 1 Axes>"
      ]
     },
     "metadata": {},
     "output_type": "display_data"
    }
   ],
   "source": [
    "#GRÁFICO DE LINHA\n",
    "\n",
    "sns.lineplot(data=energia, x='Data', y='Consumo Energia Comercial GWh')\n",
    "sns.lineplot(data=energia, x='Data', y='Consumo Energia Residencial GWh')\n",
    "sns.lineplot(data=energia, x='Data', y='Consumo Energia Industrial GWh')\n",
    "sns.lineplot(data=energia, x='Data', y='Consumo Energia Outros GWh')\n",
    "plt.show()"
   ]
  },
  {
   "cell_type": "code",
   "execution_count": 100,
   "id": "2d52a009",
   "metadata": {},
   "outputs": [
    {
     "data": {
      "image/png": "[encoded data removed]",
      "text/plain": [
       "<Figure size 640x480 with 1 Axes>"
      ]
     },
     "metadata": {},
     "output_type": "display_data"
    }
   ],
   "source": [
    "#GRÁFICO DE LINHA\n",
    "\n",
    "sns.lineplot(data=energia, x='Data', y='Consumo Energia Comercial GWh')\n",
    "sns.lineplot(data=energia, x='Data', y='Consumo Energia Residencial GWh')\n",
    "sns.lineplot(data=energia, x='Data', y='Consumo Energia Industrial GWh')\n",
    "sns.lineplot(data=energia, x='Data', y='Consumo Energia Outros GWh')\n",
    "\n",
    "plt.title('Consumo de Energia')\n",
    "plt.xlabel('Tempo')\n",
    "plt.ylabel('GWh')\n",
    "\n",
    "plt.show()"
   ]
  }
 ],
 "metadata": {
  "kernelspec": {
   "display_name": "Python 3 (ipykernel)",
   "language": "python",
   "name": "python3"
  },
  "language_info": {
   "codemirror_mode": {
    "name": "ipython",
    "version": 3
   },
   "file_extension": ".py",
   "mimetype": "text/x-python",
   "name": "python",
   "nbconvert_exporter": "python",
   "pygments_lexer": "ipython3",
   "version": "3.11.0"
  }
 },
 "nbformat": 4,
 "nbformat_minor": 5
}
